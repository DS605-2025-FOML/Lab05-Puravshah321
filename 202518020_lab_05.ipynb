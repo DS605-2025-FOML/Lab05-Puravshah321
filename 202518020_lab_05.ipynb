{
  "cells": [
    {
      "cell_type": "code",
      "execution_count": 1,
      "id": "e171526e",
      "metadata": {
        "id": "e171526e"
      },
      "outputs": [],
      "source": [
        "import pandas as pd\n",
        "import numpy as np\n",
        "import matplotlib.pyplot as plt\n",
        "import seaborn as sns"
      ]
    },
    {
      "cell_type": "code",
      "execution_count": 2,
      "id": "b6a58604",
      "metadata": {
        "id": "b6a58604"
      },
      "outputs": [],
      "source": [
        "df = pd.read_excel('Telecom_churn_rate.xlsx')"
      ]
    },
    {
      "cell_type": "markdown",
      "id": "445d2258",
      "metadata": {
        "id": "445d2258"
      },
      "source": [
        "### Task 1: EDA & cleaning\n"
      ]
    },
    {
      "cell_type": "code",
      "execution_count": 4,
      "id": "fd593c34",
      "metadata": {
        "colab": {
          "base_uri": "https://localhost:8080/",
          "height": 586
        },
        "id": "fd593c34",
        "outputId": "166f07fe-a4b6-4049-91fd-bc5f0c894601"
      },
      "outputs": [
        {
          "output_type": "execute_result",
          "data": {
            "text/plain": [
              "      customerID  gender  SeniorCitizen Partner Dependents  tenure  \\\n",
              "2195  9891-NQDBD  Female              0     Yes         No      28   \n",
              "1739  9804-ICWBG    Male              0      No         No       1   \n",
              "870   1937-OTUKY  Female              0     Yes         No      72   \n",
              "1507  7427-AUFPY    Male              0      No         No      54   \n",
              "5602  9152-AMKAK    Male              0      No         No       6   \n",
              "2718  7274-CGTOD    Male              0      No         No      62   \n",
              "4000  0420-HLGXF  Female              1      No         No      39   \n",
              "3764  6674-KVJHG  Female              0      No         No      11   \n",
              "2781  5533-NHFRF    Male              1      No         No       7   \n",
              "6609  1000-AJSLD    Male              0      No         No       1   \n",
              "\n",
              "     PhoneService     MultipleLines InternetService       OnlineSecurity  ...  \\\n",
              "2195          Yes               Yes              No  No internet service  ...   \n",
              "1739          Yes                No     Fiber optic                   No  ...   \n",
              "870           Yes               Yes     Fiber optic                  Yes  ...   \n",
              "1507          Yes                No              No  No internet service  ...   \n",
              "5602          Yes                No             DSL                  Yes  ...   \n",
              "2718           No  No phone service             DSL                  Yes  ...   \n",
              "4000          Yes               Yes     Fiber optic                   No  ...   \n",
              "3764          Yes               Yes              No  No internet service  ...   \n",
              "2781           No  No phone service             DSL                   No  ...   \n",
              "6609          Yes                No              No  No internet service  ...   \n",
              "\n",
              "              StreamingTV      StreamingMovies        Contract  \\\n",
              "2195  No internet service  No internet service        One year   \n",
              "1739                   No                   No  Month-to-month   \n",
              "870                   Yes                   No        Two year   \n",
              "1507  No internet service  No internet service        Two year   \n",
              "5602                  Yes                  Yes        Two year   \n",
              "2718                   No                   No        Two year   \n",
              "4000                  Yes                  Yes  Month-to-month   \n",
              "3764  No internet service  No internet service        One year   \n",
              "2781                   No                  Yes  Month-to-month   \n",
              "6609  No internet service  No internet service  Month-to-month   \n",
              "\n",
              "     PaperlessBilling              PaymentMethod MonthlyCharges TotalCharges  \\\n",
              "2195               No               Mailed check          25.55        672.2   \n",
              "1739              Yes           Electronic check          69.90         69.9   \n",
              "870               Yes  Bank transfer (automatic)          98.20       7015.9   \n",
              "1507               No    Credit card (automatic)          19.65       1008.7   \n",
              "5602              Yes               Mailed check          80.25        493.4   \n",
              "2718              Yes  Bank transfer (automatic)          43.70       2618.3   \n",
              "4000              Yes           Electronic check          99.75         4036   \n",
              "3764               No           Electronic check          25.20       245.15   \n",
              "2781              Yes           Electronic check          44.40        265.8   \n",
              "6609              Yes               Mailed check          20.10         20.1   \n",
              "\n",
              "     numAdminTickets  numTechTickets Churn  \n",
              "2195               0               0    No  \n",
              "1739               0               0   Yes  \n",
              "870                0               6    No  \n",
              "1507               3               0    No  \n",
              "5602               0               0    No  \n",
              "2718               0               0    No  \n",
              "4000               0               0    No  \n",
              "3764               0               0    No  \n",
              "2781               0               0    No  \n",
              "6609               0               0   Yes  \n",
              "\n",
              "[10 rows x 23 columns]"
            ],
            "text/html": [
              "\n",
              "  <div id=\"df-ce6965e4-b21e-4c38-b394-455f9ba1f8ec\" class=\"colab-df-container\">\n",
              "    <div>\n",
              "<style scoped>\n",
              "    .dataframe tbody tr th:only-of-type {\n",
              "        vertical-align: middle;\n",
              "    }\n",
              "\n",
              "    .dataframe tbody tr th {\n",
              "        vertical-align: top;\n",
              "    }\n",
              "\n",
              "    .dataframe thead th {\n",
              "        text-align: right;\n",
              "    }\n",
              "</style>\n",
              "<table border=\"1\" class=\"dataframe\">\n",
              "  <thead>\n",
              "    <tr style=\"text-align: right;\">\n",
              "      <th></th>\n",
              "      <th>customerID</th>\n",
              "      <th>gender</th>\n",
              "      <th>SeniorCitizen</th>\n",
              "      <th>Partner</th>\n",
              "      <th>Dependents</th>\n",
              "      <th>tenure</th>\n",
              "      <th>PhoneService</th>\n",
              "      <th>MultipleLines</th>\n",
              "      <th>InternetService</th>\n",
              "      <th>OnlineSecurity</th>\n",
              "      <th>...</th>\n",
              "      <th>StreamingTV</th>\n",
              "      <th>StreamingMovies</th>\n",
              "      <th>Contract</th>\n",
              "      <th>PaperlessBilling</th>\n",
              "      <th>PaymentMethod</th>\n",
              "      <th>MonthlyCharges</th>\n",
              "      <th>TotalCharges</th>\n",
              "      <th>numAdminTickets</th>\n",
              "      <th>numTechTickets</th>\n",
              "      <th>Churn</th>\n",
              "    </tr>\n",
              "  </thead>\n",
              "  <tbody>\n",
              "    <tr>\n",
              "      <th>2195</th>\n",
              "      <td>9891-NQDBD</td>\n",
              "      <td>Female</td>\n",
              "      <td>0</td>\n",
              "      <td>Yes</td>\n",
              "      <td>No</td>\n",
              "      <td>28</td>\n",
              "      <td>Yes</td>\n",
              "      <td>Yes</td>\n",
              "      <td>No</td>\n",
              "      <td>No internet service</td>\n",
              "      <td>...</td>\n",
              "      <td>No internet service</td>\n",
              "      <td>No internet service</td>\n",
              "      <td>One year</td>\n",
              "      <td>No</td>\n",
              "      <td>Mailed check</td>\n",
              "      <td>25.55</td>\n",
              "      <td>672.2</td>\n",
              "      <td>0</td>\n",
              "      <td>0</td>\n",
              "      <td>No</td>\n",
              "    </tr>\n",
              "    <tr>\n",
              "      <th>1739</th>\n",
              "      <td>9804-ICWBG</td>\n",
              "      <td>Male</td>\n",
              "      <td>0</td>\n",
              "      <td>No</td>\n",
              "      <td>No</td>\n",
              "      <td>1</td>\n",
              "      <td>Yes</td>\n",
              "      <td>No</td>\n",
              "      <td>Fiber optic</td>\n",
              "      <td>No</td>\n",
              "      <td>...</td>\n",
              "      <td>No</td>\n",
              "      <td>No</td>\n",
              "      <td>Month-to-month</td>\n",
              "      <td>Yes</td>\n",
              "      <td>Electronic check</td>\n",
              "      <td>69.90</td>\n",
              "      <td>69.9</td>\n",
              "      <td>0</td>\n",
              "      <td>0</td>\n",
              "      <td>Yes</td>\n",
              "    </tr>\n",
              "    <tr>\n",
              "      <th>870</th>\n",
              "      <td>1937-OTUKY</td>\n",
              "      <td>Female</td>\n",
              "      <td>0</td>\n",
              "      <td>Yes</td>\n",
              "      <td>No</td>\n",
              "      <td>72</td>\n",
              "      <td>Yes</td>\n",
              "      <td>Yes</td>\n",
              "      <td>Fiber optic</td>\n",
              "      <td>Yes</td>\n",
              "      <td>...</td>\n",
              "      <td>Yes</td>\n",
              "      <td>No</td>\n",
              "      <td>Two year</td>\n",
              "      <td>Yes</td>\n",
              "      <td>Bank transfer (automatic)</td>\n",
              "      <td>98.20</td>\n",
              "      <td>7015.9</td>\n",
              "      <td>0</td>\n",
              "      <td>6</td>\n",
              "      <td>No</td>\n",
              "    </tr>\n",
              "    <tr>\n",
              "      <th>1507</th>\n",
              "      <td>7427-AUFPY</td>\n",
              "      <td>Male</td>\n",
              "      <td>0</td>\n",
              "      <td>No</td>\n",
              "      <td>No</td>\n",
              "      <td>54</td>\n",
              "      <td>Yes</td>\n",
              "      <td>No</td>\n",
              "      <td>No</td>\n",
              "      <td>No internet service</td>\n",
              "      <td>...</td>\n",
              "      <td>No internet service</td>\n",
              "      <td>No internet service</td>\n",
              "      <td>Two year</td>\n",
              "      <td>No</td>\n",
              "      <td>Credit card (automatic)</td>\n",
              "      <td>19.65</td>\n",
              "      <td>1008.7</td>\n",
              "      <td>3</td>\n",
              "      <td>0</td>\n",
              "      <td>No</td>\n",
              "    </tr>\n",
              "    <tr>\n",
              "      <th>5602</th>\n",
              "      <td>9152-AMKAK</td>\n",
              "      <td>Male</td>\n",
              "      <td>0</td>\n",
              "      <td>No</td>\n",
              "      <td>No</td>\n",
              "      <td>6</td>\n",
              "      <td>Yes</td>\n",
              "      <td>No</td>\n",
              "      <td>DSL</td>\n",
              "      <td>Yes</td>\n",
              "      <td>...</td>\n",
              "      <td>Yes</td>\n",
              "      <td>Yes</td>\n",
              "      <td>Two year</td>\n",
              "      <td>Yes</td>\n",
              "      <td>Mailed check</td>\n",
              "      <td>80.25</td>\n",
              "      <td>493.4</td>\n",
              "      <td>0</td>\n",
              "      <td>0</td>\n",
              "      <td>No</td>\n",
              "    </tr>\n",
              "    <tr>\n",
              "      <th>2718</th>\n",
              "      <td>7274-CGTOD</td>\n",
              "      <td>Male</td>\n",
              "      <td>0</td>\n",
              "      <td>No</td>\n",
              "      <td>No</td>\n",
              "      <td>62</td>\n",
              "      <td>No</td>\n",
              "      <td>No phone service</td>\n",
              "      <td>DSL</td>\n",
              "      <td>Yes</td>\n",
              "      <td>...</td>\n",
              "      <td>No</td>\n",
              "      <td>No</td>\n",
              "      <td>Two year</td>\n",
              "      <td>Yes</td>\n",
              "      <td>Bank transfer (automatic)</td>\n",
              "      <td>43.70</td>\n",
              "      <td>2618.3</td>\n",
              "      <td>0</td>\n",
              "      <td>0</td>\n",
              "      <td>No</td>\n",
              "    </tr>\n",
              "    <tr>\n",
              "      <th>4000</th>\n",
              "      <td>0420-HLGXF</td>\n",
              "      <td>Female</td>\n",
              "      <td>1</td>\n",
              "      <td>No</td>\n",
              "      <td>No</td>\n",
              "      <td>39</td>\n",
              "      <td>Yes</td>\n",
              "      <td>Yes</td>\n",
              "      <td>Fiber optic</td>\n",
              "      <td>No</td>\n",
              "      <td>...</td>\n",
              "      <td>Yes</td>\n",
              "      <td>Yes</td>\n",
              "      <td>Month-to-month</td>\n",
              "      <td>Yes</td>\n",
              "      <td>Electronic check</td>\n",
              "      <td>99.75</td>\n",
              "      <td>4036</td>\n",
              "      <td>0</td>\n",
              "      <td>0</td>\n",
              "      <td>No</td>\n",
              "    </tr>\n",
              "    <tr>\n",
              "      <th>3764</th>\n",
              "      <td>6674-KVJHG</td>\n",
              "      <td>Female</td>\n",
              "      <td>0</td>\n",
              "      <td>No</td>\n",
              "      <td>No</td>\n",
              "      <td>11</td>\n",
              "      <td>Yes</td>\n",
              "      <td>Yes</td>\n",
              "      <td>No</td>\n",
              "      <td>No internet service</td>\n",
              "      <td>...</td>\n",
              "      <td>No internet service</td>\n",
              "      <td>No internet service</td>\n",
              "      <td>One year</td>\n",
              "      <td>No</td>\n",
              "      <td>Electronic check</td>\n",
              "      <td>25.20</td>\n",
              "      <td>245.15</td>\n",
              "      <td>0</td>\n",
              "      <td>0</td>\n",
              "      <td>No</td>\n",
              "    </tr>\n",
              "    <tr>\n",
              "      <th>2781</th>\n",
              "      <td>5533-NHFRF</td>\n",
              "      <td>Male</td>\n",
              "      <td>1</td>\n",
              "      <td>No</td>\n",
              "      <td>No</td>\n",
              "      <td>7</td>\n",
              "      <td>No</td>\n",
              "      <td>No phone service</td>\n",
              "      <td>DSL</td>\n",
              "      <td>No</td>\n",
              "      <td>...</td>\n",
              "      <td>No</td>\n",
              "      <td>Yes</td>\n",
              "      <td>Month-to-month</td>\n",
              "      <td>Yes</td>\n",
              "      <td>Electronic check</td>\n",
              "      <td>44.40</td>\n",
              "      <td>265.8</td>\n",
              "      <td>0</td>\n",
              "      <td>0</td>\n",
              "      <td>No</td>\n",
              "    </tr>\n",
              "    <tr>\n",
              "      <th>6609</th>\n",
              "      <td>1000-AJSLD</td>\n",
              "      <td>Male</td>\n",
              "      <td>0</td>\n",
              "      <td>No</td>\n",
              "      <td>No</td>\n",
              "      <td>1</td>\n",
              "      <td>Yes</td>\n",
              "      <td>No</td>\n",
              "      <td>No</td>\n",
              "      <td>No internet service</td>\n",
              "      <td>...</td>\n",
              "      <td>No internet service</td>\n",
              "      <td>No internet service</td>\n",
              "      <td>Month-to-month</td>\n",
              "      <td>Yes</td>\n",
              "      <td>Mailed check</td>\n",
              "      <td>20.10</td>\n",
              "      <td>20.1</td>\n",
              "      <td>0</td>\n",
              "      <td>0</td>\n",
              "      <td>Yes</td>\n",
              "    </tr>\n",
              "  </tbody>\n",
              "</table>\n",
              "<p>10 rows × 23 columns</p>\n",
              "</div>\n",
              "    <div class=\"colab-df-buttons\">\n",
              "\n",
              "  <div class=\"colab-df-container\">\n",
              "    <button class=\"colab-df-convert\" onclick=\"convertToInteractive('df-ce6965e4-b21e-4c38-b394-455f9ba1f8ec')\"\n",
              "            title=\"Convert this dataframe to an interactive table.\"\n",
              "            style=\"display:none;\">\n",
              "\n",
              "  <svg xmlns=\"http://www.w3.org/2000/svg\" height=\"24px\" viewBox=\"0 -960 960 960\">\n",
              "    <path d=\"M120-120v-720h720v720H120Zm60-500h600v-160H180v160Zm220 220h160v-160H400v160Zm0 220h160v-160H400v160ZM180-400h160v-160H180v160Zm440 0h160v-160H620v160ZM180-180h160v-160H180v160Zm440 0h160v-160H620v160Z\"/>\n",
              "  </svg>\n",
              "    </button>\n",
              "\n",
              "  <style>\n",
              "    .colab-df-container {\n",
              "      display:flex;\n",
              "      gap: 12px;\n",
              "    }\n",
              "\n",
              "    .colab-df-convert {\n",
              "      background-color: #E8F0FE;\n",
              "      border: none;\n",
              "      border-radius: 50%;\n",
              "      cursor: pointer;\n",
              "      display: none;\n",
              "      fill: #1967D2;\n",
              "      height: 32px;\n",
              "      padding: 0 0 0 0;\n",
              "      width: 32px;\n",
              "    }\n",
              "\n",
              "    .colab-df-convert:hover {\n",
              "      background-color: #E2EBFA;\n",
              "      box-shadow: 0px 1px 2px rgba(60, 64, 67, 0.3), 0px 1px 3px 1px rgba(60, 64, 67, 0.15);\n",
              "      fill: #174EA6;\n",
              "    }\n",
              "\n",
              "    .colab-df-buttons div {\n",
              "      margin-bottom: 4px;\n",
              "    }\n",
              "\n",
              "    [theme=dark] .colab-df-convert {\n",
              "      background-color: #3B4455;\n",
              "      fill: #D2E3FC;\n",
              "    }\n",
              "\n",
              "    [theme=dark] .colab-df-convert:hover {\n",
              "      background-color: #434B5C;\n",
              "      box-shadow: 0px 1px 3px 1px rgba(0, 0, 0, 0.15);\n",
              "      filter: drop-shadow(0px 1px 2px rgba(0, 0, 0, 0.3));\n",
              "      fill: #FFFFFF;\n",
              "    }\n",
              "  </style>\n",
              "\n",
              "    <script>\n",
              "      const buttonEl =\n",
              "        document.querySelector('#df-ce6965e4-b21e-4c38-b394-455f9ba1f8ec button.colab-df-convert');\n",
              "      buttonEl.style.display =\n",
              "        google.colab.kernel.accessAllowed ? 'block' : 'none';\n",
              "\n",
              "      async function convertToInteractive(key) {\n",
              "        const element = document.querySelector('#df-ce6965e4-b21e-4c38-b394-455f9ba1f8ec');\n",
              "        const dataTable =\n",
              "          await google.colab.kernel.invokeFunction('convertToInteractive',\n",
              "                                                    [key], {});\n",
              "        if (!dataTable) return;\n",
              "\n",
              "        const docLinkHtml = 'Like what you see? Visit the ' +\n",
              "          '<a target=\"_blank\" href=https://colab.research.google.com/notebooks/data_table.ipynb>data table notebook</a>'\n",
              "          + ' to learn more about interactive tables.';\n",
              "        element.innerHTML = '';\n",
              "        dataTable['output_type'] = 'display_data';\n",
              "        await google.colab.output.renderOutput(dataTable, element);\n",
              "        const docLink = document.createElement('div');\n",
              "        docLink.innerHTML = docLinkHtml;\n",
              "        element.appendChild(docLink);\n",
              "      }\n",
              "    </script>\n",
              "  </div>\n",
              "\n",
              "\n",
              "    <div id=\"df-6e2cdefa-1d3a-41c3-9e00-82246fe001d1\">\n",
              "      <button class=\"colab-df-quickchart\" onclick=\"quickchart('df-6e2cdefa-1d3a-41c3-9e00-82246fe001d1')\"\n",
              "                title=\"Suggest charts\"\n",
              "                style=\"display:none;\">\n",
              "\n",
              "<svg xmlns=\"http://www.w3.org/2000/svg\" height=\"24px\"viewBox=\"0 0 24 24\"\n",
              "     width=\"24px\">\n",
              "    <g>\n",
              "        <path d=\"M19 3H5c-1.1 0-2 .9-2 2v14c0 1.1.9 2 2 2h14c1.1 0 2-.9 2-2V5c0-1.1-.9-2-2-2zM9 17H7v-7h2v7zm4 0h-2V7h2v10zm4 0h-2v-4h2v4z\"/>\n",
              "    </g>\n",
              "</svg>\n",
              "      </button>\n",
              "\n",
              "<style>\n",
              "  .colab-df-quickchart {\n",
              "      --bg-color: #E8F0FE;\n",
              "      --fill-color: #1967D2;\n",
              "      --hover-bg-color: #E2EBFA;\n",
              "      --hover-fill-color: #174EA6;\n",
              "      --disabled-fill-color: #AAA;\n",
              "      --disabled-bg-color: #DDD;\n",
              "  }\n",
              "\n",
              "  [theme=dark] .colab-df-quickchart {\n",
              "      --bg-color: #3B4455;\n",
              "      --fill-color: #D2E3FC;\n",
              "      --hover-bg-color: #434B5C;\n",
              "      --hover-fill-color: #FFFFFF;\n",
              "      --disabled-bg-color: #3B4455;\n",
              "      --disabled-fill-color: #666;\n",
              "  }\n",
              "\n",
              "  .colab-df-quickchart {\n",
              "    background-color: var(--bg-color);\n",
              "    border: none;\n",
              "    border-radius: 50%;\n",
              "    cursor: pointer;\n",
              "    display: none;\n",
              "    fill: var(--fill-color);\n",
              "    height: 32px;\n",
              "    padding: 0;\n",
              "    width: 32px;\n",
              "  }\n",
              "\n",
              "  .colab-df-quickchart:hover {\n",
              "    background-color: var(--hover-bg-color);\n",
              "    box-shadow: 0 1px 2px rgba(60, 64, 67, 0.3), 0 1px 3px 1px rgba(60, 64, 67, 0.15);\n",
              "    fill: var(--button-hover-fill-color);\n",
              "  }\n",
              "\n",
              "  .colab-df-quickchart-complete:disabled,\n",
              "  .colab-df-quickchart-complete:disabled:hover {\n",
              "    background-color: var(--disabled-bg-color);\n",
              "    fill: var(--disabled-fill-color);\n",
              "    box-shadow: none;\n",
              "  }\n",
              "\n",
              "  .colab-df-spinner {\n",
              "    border: 2px solid var(--fill-color);\n",
              "    border-color: transparent;\n",
              "    border-bottom-color: var(--fill-color);\n",
              "    animation:\n",
              "      spin 1s steps(1) infinite;\n",
              "  }\n",
              "\n",
              "  @keyframes spin {\n",
              "    0% {\n",
              "      border-color: transparent;\n",
              "      border-bottom-color: var(--fill-color);\n",
              "      border-left-color: var(--fill-color);\n",
              "    }\n",
              "    20% {\n",
              "      border-color: transparent;\n",
              "      border-left-color: var(--fill-color);\n",
              "      border-top-color: var(--fill-color);\n",
              "    }\n",
              "    30% {\n",
              "      border-color: transparent;\n",
              "      border-left-color: var(--fill-color);\n",
              "      border-top-color: var(--fill-color);\n",
              "      border-right-color: var(--fill-color);\n",
              "    }\n",
              "    40% {\n",
              "      border-color: transparent;\n",
              "      border-right-color: var(--fill-color);\n",
              "      border-top-color: var(--fill-color);\n",
              "    }\n",
              "    60% {\n",
              "      border-color: transparent;\n",
              "      border-right-color: var(--fill-color);\n",
              "    }\n",
              "    80% {\n",
              "      border-color: transparent;\n",
              "      border-right-color: var(--fill-color);\n",
              "      border-bottom-color: var(--fill-color);\n",
              "    }\n",
              "    90% {\n",
              "      border-color: transparent;\n",
              "      border-bottom-color: var(--fill-color);\n",
              "    }\n",
              "  }\n",
              "</style>\n",
              "\n",
              "      <script>\n",
              "        async function quickchart(key) {\n",
              "          const quickchartButtonEl =\n",
              "            document.querySelector('#' + key + ' button');\n",
              "          quickchartButtonEl.disabled = true;  // To prevent multiple clicks.\n",
              "          quickchartButtonEl.classList.add('colab-df-spinner');\n",
              "          try {\n",
              "            const charts = await google.colab.kernel.invokeFunction(\n",
              "                'suggestCharts', [key], {});\n",
              "          } catch (error) {\n",
              "            console.error('Error during call to suggestCharts:', error);\n",
              "          }\n",
              "          quickchartButtonEl.classList.remove('colab-df-spinner');\n",
              "          quickchartButtonEl.classList.add('colab-df-quickchart-complete');\n",
              "        }\n",
              "        (() => {\n",
              "          let quickchartButtonEl =\n",
              "            document.querySelector('#df-6e2cdefa-1d3a-41c3-9e00-82246fe001d1 button');\n",
              "          quickchartButtonEl.style.display =\n",
              "            google.colab.kernel.accessAllowed ? 'block' : 'none';\n",
              "        })();\n",
              "      </script>\n",
              "    </div>\n",
              "\n",
              "    </div>\n",
              "  </div>\n"
            ],
            "application/vnd.google.colaboratory.intrinsic+json": {
              "type": "dataframe"
            }
          },
          "metadata": {},
          "execution_count": 4
        }
      ],
      "source": [
        "df.sample(10)"
      ]
    },
    {
      "cell_type": "code",
      "execution_count": 5,
      "id": "8664483a",
      "metadata": {
        "colab": {
          "base_uri": "https://localhost:8080/",
          "height": 805
        },
        "id": "8664483a",
        "outputId": "93eee75c-b8f5-43ed-c7d1-dcbf88098adc"
      },
      "outputs": [
        {
          "output_type": "execute_result",
          "data": {
            "text/plain": [
              "customerID          0\n",
              "gender              0\n",
              "SeniorCitizen       0\n",
              "Partner             0\n",
              "Dependents          0\n",
              "tenure              0\n",
              "PhoneService        0\n",
              "MultipleLines       0\n",
              "InternetService     0\n",
              "OnlineSecurity      0\n",
              "OnlineBackup        0\n",
              "DeviceProtection    0\n",
              "TechSupport         0\n",
              "StreamingTV         0\n",
              "StreamingMovies     0\n",
              "Contract            0\n",
              "PaperlessBilling    0\n",
              "PaymentMethod       0\n",
              "MonthlyCharges      0\n",
              "TotalCharges        0\n",
              "numAdminTickets     0\n",
              "numTechTickets      0\n",
              "Churn               0\n",
              "dtype: int64"
            ],
            "text/html": [
              "<div>\n",
              "<style scoped>\n",
              "    .dataframe tbody tr th:only-of-type {\n",
              "        vertical-align: middle;\n",
              "    }\n",
              "\n",
              "    .dataframe tbody tr th {\n",
              "        vertical-align: top;\n",
              "    }\n",
              "\n",
              "    .dataframe thead th {\n",
              "        text-align: right;\n",
              "    }\n",
              "</style>\n",
              "<table border=\"1\" class=\"dataframe\">\n",
              "  <thead>\n",
              "    <tr style=\"text-align: right;\">\n",
              "      <th></th>\n",
              "      <th>0</th>\n",
              "    </tr>\n",
              "  </thead>\n",
              "  <tbody>\n",
              "    <tr>\n",
              "      <th>customerID</th>\n",
              "      <td>0</td>\n",
              "    </tr>\n",
              "    <tr>\n",
              "      <th>gender</th>\n",
              "      <td>0</td>\n",
              "    </tr>\n",
              "    <tr>\n",
              "      <th>SeniorCitizen</th>\n",
              "      <td>0</td>\n",
              "    </tr>\n",
              "    <tr>\n",
              "      <th>Partner</th>\n",
              "      <td>0</td>\n",
              "    </tr>\n",
              "    <tr>\n",
              "      <th>Dependents</th>\n",
              "      <td>0</td>\n",
              "    </tr>\n",
              "    <tr>\n",
              "      <th>tenure</th>\n",
              "      <td>0</td>\n",
              "    </tr>\n",
              "    <tr>\n",
              "      <th>PhoneService</th>\n",
              "      <td>0</td>\n",
              "    </tr>\n",
              "    <tr>\n",
              "      <th>MultipleLines</th>\n",
              "      <td>0</td>\n",
              "    </tr>\n",
              "    <tr>\n",
              "      <th>InternetService</th>\n",
              "      <td>0</td>\n",
              "    </tr>\n",
              "    <tr>\n",
              "      <th>OnlineSecurity</th>\n",
              "      <td>0</td>\n",
              "    </tr>\n",
              "    <tr>\n",
              "      <th>OnlineBackup</th>\n",
              "      <td>0</td>\n",
              "    </tr>\n",
              "    <tr>\n",
              "      <th>DeviceProtection</th>\n",
              "      <td>0</td>\n",
              "    </tr>\n",
              "    <tr>\n",
              "      <th>TechSupport</th>\n",
              "      <td>0</td>\n",
              "    </tr>\n",
              "    <tr>\n",
              "      <th>StreamingTV</th>\n",
              "      <td>0</td>\n",
              "    </tr>\n",
              "    <tr>\n",
              "      <th>StreamingMovies</th>\n",
              "      <td>0</td>\n",
              "    </tr>\n",
              "    <tr>\n",
              "      <th>Contract</th>\n",
              "      <td>0</td>\n",
              "    </tr>\n",
              "    <tr>\n",
              "      <th>PaperlessBilling</th>\n",
              "      <td>0</td>\n",
              "    </tr>\n",
              "    <tr>\n",
              "      <th>PaymentMethod</th>\n",
              "      <td>0</td>\n",
              "    </tr>\n",
              "    <tr>\n",
              "      <th>MonthlyCharges</th>\n",
              "      <td>0</td>\n",
              "    </tr>\n",
              "    <tr>\n",
              "      <th>TotalCharges</th>\n",
              "      <td>0</td>\n",
              "    </tr>\n",
              "    <tr>\n",
              "      <th>numAdminTickets</th>\n",
              "      <td>0</td>\n",
              "    </tr>\n",
              "    <tr>\n",
              "      <th>numTechTickets</th>\n",
              "      <td>0</td>\n",
              "    </tr>\n",
              "    <tr>\n",
              "      <th>Churn</th>\n",
              "      <td>0</td>\n",
              "    </tr>\n",
              "  </tbody>\n",
              "</table>\n",
              "</div><br><label><b>dtype:</b> int64</label>"
            ]
          },
          "metadata": {},
          "execution_count": 5
        }
      ],
      "source": [
        "df.isnull().sum()"
      ]
    },
    {
      "cell_type": "code",
      "execution_count": 6,
      "id": "ce069925",
      "metadata": {
        "colab": {
          "base_uri": "https://localhost:8080/"
        },
        "id": "ce069925",
        "outputId": "41474dd5-f324-4625-e37c-cc38e93e1196"
      },
      "outputs": [
        {
          "output_type": "execute_result",
          "data": {
            "text/plain": [
              "(7043, 23)"
            ]
          },
          "metadata": {},
          "execution_count": 6
        }
      ],
      "source": [
        "df.shape"
      ]
    },
    {
      "cell_type": "code",
      "execution_count": 7,
      "id": "ae919c21",
      "metadata": {
        "colab": {
          "base_uri": "https://localhost:8080/"
        },
        "id": "ae919c21",
        "outputId": "83a46e5e-8c9b-4b23-e23e-43ee3ddd62a6"
      },
      "outputs": [
        {
          "output_type": "stream",
          "name": "stdout",
          "text": [
            "<class 'pandas.core.frame.DataFrame'>\n",
            "RangeIndex: 7043 entries, 0 to 7042\n",
            "Data columns (total 23 columns):\n",
            " #   Column            Non-Null Count  Dtype  \n",
            "---  ------            --------------  -----  \n",
            " 0   customerID        7043 non-null   object \n",
            " 1   gender            7043 non-null   object \n",
            " 2   SeniorCitizen     7043 non-null   int64  \n",
            " 3   Partner           7043 non-null   object \n",
            " 4   Dependents        7043 non-null   object \n",
            " 5   tenure            7043 non-null   int64  \n",
            " 6   PhoneService      7043 non-null   object \n",
            " 7   MultipleLines     7043 non-null   object \n",
            " 8   InternetService   7043 non-null   object \n",
            " 9   OnlineSecurity    7043 non-null   object \n",
            " 10  OnlineBackup      7043 non-null   object \n",
            " 11  DeviceProtection  7043 non-null   object \n",
            " 12  TechSupport       7043 non-null   object \n",
            " 13  StreamingTV       7043 non-null   object \n",
            " 14  StreamingMovies   7043 non-null   object \n",
            " 15  Contract          7043 non-null   object \n",
            " 16  PaperlessBilling  7043 non-null   object \n",
            " 17  PaymentMethod     7043 non-null   object \n",
            " 18  MonthlyCharges    7043 non-null   float64\n",
            " 19  TotalCharges      7043 non-null   object \n",
            " 20  numAdminTickets   7043 non-null   int64  \n",
            " 21  numTechTickets    7043 non-null   int64  \n",
            " 22  Churn             7043 non-null   object \n",
            "dtypes: float64(1), int64(4), object(18)\n",
            "memory usage: 1.2+ MB\n"
          ]
        }
      ],
      "source": [
        "df.info()"
      ]
    },
    {
      "cell_type": "code",
      "execution_count": null,
      "id": "daba9c74",
      "metadata": {
        "id": "daba9c74",
        "outputId": "f1ecb4b8-7d5b-43b9-8c86-a5864976bdab"
      },
      "outputs": [
        {
          "data": {
            "text/plain": [
              "customerID          0\n",
              "gender              0\n",
              "SeniorCitizen       0\n",
              "Partner             0\n",
              "Dependents          0\n",
              "tenure              0\n",
              "PhoneService        0\n",
              "MultipleLines       0\n",
              "InternetService     0\n",
              "OnlineSecurity      0\n",
              "OnlineBackup        0\n",
              "DeviceProtection    0\n",
              "TechSupport         0\n",
              "StreamingTV         0\n",
              "StreamingMovies     0\n",
              "Contract            0\n",
              "PaperlessBilling    0\n",
              "PaymentMethod       0\n",
              "MonthlyCharges      0\n",
              "TotalCharges        0\n",
              "numAdminTickets     0\n",
              "numTechTickets      0\n",
              "Churn               0\n",
              "dtype: int64"
            ]
          },
          "execution_count": 8,
          "metadata": {},
          "output_type": "execute_result"
        }
      ],
      "source": [
        "df.isnull().sum()"
      ]
    },
    {
      "cell_type": "code",
      "execution_count": 8,
      "id": "e23b1311",
      "metadata": {
        "colab": {
          "base_uri": "https://localhost:8080/"
        },
        "id": "e23b1311",
        "outputId": "d82df7c4-c1fd-4fdf-ef45-2f8a4b66d10b"
      },
      "outputs": [
        {
          "output_type": "stream",
          "name": "stdout",
          "text": [
            "object\n"
          ]
        }
      ],
      "source": [
        "print(df['TotalCharges'].dtype)"
      ]
    },
    {
      "cell_type": "code",
      "execution_count": 9,
      "id": "f0f40e25",
      "metadata": {
        "colab": {
          "base_uri": "https://localhost:8080/"
        },
        "id": "f0f40e25",
        "outputId": "cafa6a15-235f-41e0-c9f2-0bd7dbdfb5ae"
      },
      "outputs": [
        {
          "output_type": "execute_result",
          "data": {
            "text/plain": [
              "array([29.85, 1889.5, 108.15, ..., 346.45, 306.6, 6844.5], dtype=object)"
            ]
          },
          "metadata": {},
          "execution_count": 9
        }
      ],
      "source": [
        "df['TotalCharges'].unique()"
      ]
    },
    {
      "cell_type": "code",
      "execution_count": 10,
      "id": "92830813",
      "metadata": {
        "id": "92830813"
      },
      "outputs": [],
      "source": [
        "df['TotalCharges'] = pd.to_numeric(df['TotalCharges'], errors='coerce')"
      ]
    },
    {
      "cell_type": "code",
      "execution_count": 11,
      "id": "2434300d",
      "metadata": {
        "colab": {
          "base_uri": "https://localhost:8080/"
        },
        "id": "2434300d",
        "outputId": "18195170-bcbb-4c15-ee69-654aa6575bba"
      },
      "outputs": [
        {
          "output_type": "stream",
          "name": "stdout",
          "text": [
            "float64\n"
          ]
        }
      ],
      "source": [
        "print(df['TotalCharges'].dtype)"
      ]
    },
    {
      "cell_type": "code",
      "execution_count": 12,
      "id": "44fcb424",
      "metadata": {
        "colab": {
          "base_uri": "https://localhost:8080/"
        },
        "id": "44fcb424",
        "outputId": "285067c4-9c2a-4d5f-c18d-04efcbde134a"
      },
      "outputs": [
        {
          "output_type": "stream",
          "name": "stdout",
          "text": [
            "customerID           0\n",
            "gender               0\n",
            "SeniorCitizen        0\n",
            "Partner              0\n",
            "Dependents           0\n",
            "tenure               0\n",
            "PhoneService         0\n",
            "MultipleLines        0\n",
            "InternetService      0\n",
            "OnlineSecurity       0\n",
            "OnlineBackup         0\n",
            "DeviceProtection     0\n",
            "TechSupport          0\n",
            "StreamingTV          0\n",
            "StreamingMovies      0\n",
            "Contract             0\n",
            "PaperlessBilling     0\n",
            "PaymentMethod        0\n",
            "MonthlyCharges       0\n",
            "TotalCharges        11\n",
            "numAdminTickets      0\n",
            "numTechTickets       0\n",
            "Churn                0\n",
            "dtype: int64\n"
          ]
        }
      ],
      "source": [
        "missing_data = df.isnull().sum()\n",
        "print(missing_data)"
      ]
    },
    {
      "cell_type": "code",
      "execution_count": 13,
      "id": "b7035e08",
      "metadata": {
        "colab": {
          "base_uri": "https://localhost:8080/"
        },
        "id": "b7035e08",
        "outputId": "3ab6e7f6-a679-49ce-e8be-b1cb5ceaff1e"
      },
      "outputs": [
        {
          "output_type": "stream",
          "name": "stdout",
          "text": [
            "customerID          0.000000\n",
            "gender              0.000000\n",
            "SeniorCitizen       0.000000\n",
            "Partner             0.000000\n",
            "Dependents          0.000000\n",
            "tenure              0.000000\n",
            "PhoneService        0.000000\n",
            "MultipleLines       0.000000\n",
            "InternetService     0.000000\n",
            "OnlineSecurity      0.000000\n",
            "OnlineBackup        0.000000\n",
            "DeviceProtection    0.000000\n",
            "TechSupport         0.000000\n",
            "StreamingTV         0.000000\n",
            "StreamingMovies     0.000000\n",
            "Contract            0.000000\n",
            "PaperlessBilling    0.000000\n",
            "PaymentMethod       0.000000\n",
            "MonthlyCharges      0.000000\n",
            "TotalCharges        0.156183\n",
            "numAdminTickets     0.000000\n",
            "numTechTickets      0.000000\n",
            "Churn               0.000000\n",
            "dtype: float64\n"
          ]
        }
      ],
      "source": [
        "missing_percent =(missing_data / len(df)) * 100\n",
        "print(missing_percent)"
      ]
    },
    {
      "cell_type": "code",
      "execution_count": 14,
      "id": "c44e236e",
      "metadata": {
        "id": "c44e236e"
      },
      "outputs": [],
      "source": [
        "missing_summary = pd.DataFrame({\n",
        "    \"missing_values\": missing_data,\n",
        "    \"percent(%)\": missing_percent.round(2)\n",
        "})"
      ]
    },
    {
      "cell_type": "code",
      "execution_count": 15,
      "id": "c8eb10c6",
      "metadata": {
        "colab": {
          "base_uri": "https://localhost:8080/"
        },
        "id": "c8eb10c6",
        "outputId": "7669effe-d89e-4f7d-89c3-87aad6c0712e"
      },
      "outputs": [
        {
          "output_type": "stream",
          "name": "stdout",
          "text": [
            "              missing_values  percent(%)\n",
            "TotalCharges              11        0.16\n"
          ]
        }
      ],
      "source": [
        "print(missing_summary[missing_summary[\"missing_values\"] > 0])"
      ]
    },
    {
      "cell_type": "code",
      "execution_count": 16,
      "id": "de878b3b",
      "metadata": {
        "id": "de878b3b"
      },
      "outputs": [],
      "source": [
        "df = df.dropna(subset=['TotalCharges'])"
      ]
    },
    {
      "cell_type": "code",
      "execution_count": 17,
      "id": "e5a5e348",
      "metadata": {
        "id": "e5a5e348"
      },
      "outputs": [],
      "source": [
        "missing_data = df.isnull().sum()\n",
        "missing_summary_after = pd.DataFrame({\n",
        "    \"missing_values\": missing_data,\n",
        "    \"percent(%)\": (missing_data / len(df)) * 100\n",
        "})"
      ]
    },
    {
      "cell_type": "code",
      "execution_count": 18,
      "id": "ef87371d",
      "metadata": {
        "colab": {
          "base_uri": "https://localhost:8080/"
        },
        "id": "ef87371d",
        "outputId": "c8541536-c79c-4a96-8817-f88be0b9bb1b"
      },
      "outputs": [
        {
          "output_type": "stream",
          "name": "stdout",
          "text": [
            "customerID          0\n",
            "gender              0\n",
            "SeniorCitizen       0\n",
            "Partner             0\n",
            "Dependents          0\n",
            "tenure              0\n",
            "PhoneService        0\n",
            "MultipleLines       0\n",
            "InternetService     0\n",
            "OnlineSecurity      0\n",
            "OnlineBackup        0\n",
            "DeviceProtection    0\n",
            "TechSupport         0\n",
            "StreamingTV         0\n",
            "StreamingMovies     0\n",
            "Contract            0\n",
            "PaperlessBilling    0\n",
            "PaymentMethod       0\n",
            "MonthlyCharges      0\n",
            "TotalCharges        0\n",
            "numAdminTickets     0\n",
            "numTechTickets      0\n",
            "Churn               0\n",
            "dtype: int64\n"
          ]
        }
      ],
      "source": [
        "print(missing_data)"
      ]
    },
    {
      "cell_type": "markdown",
      "id": "86162ea1",
      "metadata": {
        "id": "86162ea1"
      },
      "source": [
        "#### Data Visualization:"
      ]
    },
    {
      "cell_type": "code",
      "execution_count": 19,
      "id": "8c6569ce",
      "metadata": {
        "id": "8c6569ce"
      },
      "outputs": [],
      "source": [
        "import matplotlib.pyplot as plt\n",
        "import seaborn as sns"
      ]
    },
    {
      "cell_type": "code",
      "execution_count": 20,
      "id": "7b3b155b",
      "metadata": {
        "colab": {
          "base_uri": "https://localhost:8080/",
          "height": 671
        },
        "id": "7b3b155b",
        "outputId": "ff4a4c30-9856-4433-b6ff-329549b9c333"
      },
      "outputs": [
        {
          "output_type": "stream",
          "name": "stderr",
          "text": [
            "/tmp/ipython-input-1452144039.py:2: FutureWarning: \n",
            "\n",
            "Passing `palette` without assigning `hue` is deprecated and will be removed in v0.14.0. Assign the `x` variable to `hue` and set `legend=False` for the same effect.\n",
            "\n",
            "  sns.countplot(data=df, x=\"Churn\", palette=\"Set1\")\n"
          ]
        },
        {
          "output_type": "display_data",
          "data": {
            "text/plain": [
              "<Figure size 800x600 with 1 Axes>"
            ],
            "image/png": "[encoded data removed]"
          },
          "metadata": {}
        }
      ],
      "source": [
        "plt.figure(figsize=(8,6))\n",
        "sns.countplot(data=df, x=\"Churn\", palette=\"Set1\")\n",
        "plt.title(\"Churn Distribution\")\n",
        "plt.show()"
      ]
    },
    {
      "cell_type": "code",
      "execution_count": 22,
      "id": "20eba329",
      "metadata": {
        "colab": {
          "base_uri": "https://localhost:8080/",
          "height": 718
        },
        "id": "20eba329",
        "outputId": "9d7f5faa-dca8-47ff-dbfc-d3acbb5b7c4c"
      },
      "outputs": [
        {
          "output_type": "display_data",
          "data": {
            "text/plain": [
              "<Figure size 600x800 with 1 Axes>"
            ],
            "image/png": "[encoded data removed]"
          },
          "metadata": {}
        }
      ],
      "source": [
        "plt.figure(figsize=(6,8))\n",
        "sns.histplot(data=df, x=\"tenure\", hue=\"Churn\", bins=40, kde=True, multiple=\"stack\", palette=\"Set2\")\n",
        "plt.title(\"Distribution of Tenure by Churn Status\")\n",
        "plt.show()\n"
      ]
    },
    {
      "cell_type": "code",
      "execution_count": 23,
      "id": "a7a037b2",
      "metadata": {
        "colab": {
          "base_uri": "https://localhost:8080/",
          "height": 487
        },
        "id": "a7a037b2",
        "outputId": "950b8e66-b624-4c75-8e02-5b8d4a1d0554"
      },
      "outputs": [
        {
          "output_type": "display_data",
          "data": {
            "text/plain": [
              "<Figure size 800x500 with 1 Axes>"
            ],
            "image/png": "[encoded data removed]"
          },
          "metadata": {}
        }
      ],
      "source": [
        "plt.figure(figsize=(8,5))\n",
        "sns.histplot(data=df, x=\"MonthlyCharges\", hue=\"Churn\", kde=True, bins=30)\n",
        "plt.title(\"Distribution of Monthly Charges by Churn Status\")\n",
        "plt.xlabel(\"Monthly Charges\")\n",
        "plt.ylabel(\"Count\")\n",
        "plt.show()"
      ]
    },
    {
      "cell_type": "code",
      "execution_count": 24,
      "id": "1f5f62dc",
      "metadata": {
        "colab": {
          "base_uri": "https://localhost:8080/",
          "height": 641
        },
        "id": "1f5f62dc",
        "outputId": "2cd8dacf-741a-4982-9a25-63bafe81aca9"
      },
      "outputs": [
        {
          "output_type": "display_data",
          "data": {
            "text/plain": [
              "<Figure size 1000x700 with 1 Axes>"
            ],
            "image/png": "[encoded data removed]"
          },
          "metadata": {}
        }
      ],
      "source": [
        "plt.figure(figsize=(10,7))\n",
        "sns.countplot(data=df, x=\"Contract\", hue=\"Churn\")\n",
        "plt.title(\"Contract Type vs Churn\")\n",
        "plt.xlabel(\"Contract Type\")\n",
        "plt.ylabel(\"Count\")\n",
        "plt.show()"
      ]
    },
    {
      "cell_type": "code",
      "execution_count": 25,
      "id": "1ec5ab7f",
      "metadata": {
        "colab": {
          "base_uri": "https://localhost:8080/",
          "height": 654
        },
        "id": "1ec5ab7f",
        "outputId": "2a94077c-cc50-4d75-84f7-1a05ad79ca1c"
      },
      "outputs": [
        {
          "output_type": "display_data",
          "data": {
            "text/plain": [
              "<Figure size 1000x600 with 2 Axes>"
            ],
            "image/png": "[encoded data removed]"
          },
          "metadata": {}
        }
      ],
      "source": [
        "plt.figure(figsize=(10,6))\n",
        "df_corr = df.corr(numeric_only=True)\n",
        "sns.heatmap(df_corr, annot=True, cmap=\"Blues\", fmt=\".2f\")\n",
        "plt.title(\"Correlation Heatmap of Numerical Features\")\n",
        "plt.show()"
      ]
    },
    {
      "cell_type": "markdown",
      "id": "42ce136c",
      "metadata": {
        "id": "42ce136c"
      },
      "source": [
        "From the above heatmap we can say that TotalCharges - tenure and TotalCharges - MonthlyCharges are having high correlation. TotalCharges - tenure might have multicollinearity as they are highly correlated."
      ]
    },
    {
      "cell_type": "code",
      "execution_count": 26,
      "id": "a09e769c",
      "metadata": {
        "colab": {
          "base_uri": "https://localhost:8080/"
        },
        "id": "a09e769c",
        "outputId": "d201f2e8-4512-4d59-ad7b-074d1ddb0724"
      },
      "outputs": [
        {
          "output_type": "stream",
          "name": "stdout",
          "text": [
            "           Feature        VIF\n",
            "0            const  15.192906\n",
            "1    SeniorCitizen   1.057219\n",
            "2           tenure   5.851590\n",
            "3   MonthlyCharges   3.330672\n",
            "4     TotalCharges   9.569407\n",
            "5  numAdminTickets   1.000269\n",
            "6   numTechTickets   1.098891\n"
          ]
        }
      ],
      "source": [
        "from statsmodels.stats.outliers_influence import variance_inflation_factor\n",
        "from statsmodels.tools.tools import add_constant\n",
        "\n",
        "X = df.drop(columns=['Churn'])\n",
        "X = X.select_dtypes(include=['float64', 'int64'])\n",
        "X_const = add_constant(X)\n",
        "\n",
        "vif = pd.DataFrame()\n",
        "vif[\"Feature\"] = X_const.columns\n",
        "vif[\"VIF\"] = [variance_inflation_factor(X_const.values, i) for i in range(X_const.shape[1])]\n",
        "\n",
        "print(vif)"
      ]
    },
    {
      "cell_type": "markdown",
      "id": "13612fd2",
      "metadata": {
        "id": "13612fd2"
      },
      "source": [
        "const is the intercept, so we'll just ignore it.\n",
        "\n",
        "TotalCharges have VIF = 9.56 (which is very high, that means it has multicollinearity.)\n"
      ]
    },
    {
      "cell_type": "code",
      "execution_count": null,
      "id": "b84c243f",
      "metadata": {
        "id": "b84c243f",
        "outputId": "bc08e15f-ebbe-4d69-91b5-d526742f5984"
      },
      "outputs": [
        {
          "name": "stdout",
          "output_type": "stream",
          "text": [
            "<class 'pandas.core.frame.DataFrame'>\n",
            "Index: 7032 entries, 0 to 7042\n",
            "Data columns (total 23 columns):\n",
            " #   Column            Non-Null Count  Dtype  \n",
            "---  ------            --------------  -----  \n",
            " 0   customerID        7032 non-null   object \n",
            " 1   gender            7032 non-null   object \n",
            " 2   SeniorCitizen     7032 non-null   int64  \n",
            " 3   Partner           7032 non-null   object \n",
            " 4   Dependents        7032 non-null   object \n",
            " 5   tenure            7032 non-null   int64  \n",
            " 6   PhoneService      7032 non-null   object \n",
            " 7   MultipleLines     7032 non-null   object \n",
            " 8   InternetService   7032 non-null   object \n",
            " 9   OnlineSecurity    7032 non-null   object \n",
            " 10  OnlineBackup      7032 non-null   object \n",
            " 11  DeviceProtection  7032 non-null   object \n",
            " 12  TechSupport       7032 non-null   object \n",
            " 13  StreamingTV       7032 non-null   object \n",
            " 14  StreamingMovies   7032 non-null   object \n",
            " 15  Contract          7032 non-null   object \n",
            " 16  PaperlessBilling  7032 non-null   object \n",
            " 17  PaymentMethod     7032 non-null   object \n",
            " 18  MonthlyCharges    7032 non-null   float64\n",
            " 19  TotalCharges      7032 non-null   float64\n",
            " 20  numAdminTickets   7032 non-null   int64  \n",
            " 21  numTechTickets    7032 non-null   int64  \n",
            " 22  Churn             7032 non-null   object \n",
            "dtypes: float64(2), int64(4), object(17)\n",
            "memory usage: 1.3+ MB\n"
          ]
        }
      ],
      "source": [
        "df.info()"
      ]
    },
    {
      "cell_type": "markdown",
      "id": "a5514530",
      "metadata": {
        "id": "a5514530"
      },
      "source": [
        "### Task 2: Feature Engineering"
      ]
    },
    {
      "cell_type": "code",
      "execution_count": 27,
      "id": "c9a7337a",
      "metadata": {
        "id": "c9a7337a"
      },
      "outputs": [],
      "source": [
        "df['TenureGroup'] = pd.cut(df['tenure'],\n",
        "                           bins=[0, 12, 24, 48, 72],\n",
        "                           labels=['0-1 yr', '1-2 yrs', '2-4 yrs', '4-6 yrs'])"
      ]
    },
    {
      "cell_type": "markdown",
      "id": "b3b51a92",
      "metadata": {
        "id": "b3b51a92"
      },
      "source": [
        "Helps the model capture nonlinear relationships between loyalty length and churn.The behaviour of very new customers & long-term customers is different"
      ]
    },
    {
      "cell_type": "code",
      "execution_count": 28,
      "id": "33025c13",
      "metadata": {
        "id": "33025c13"
      },
      "outputs": [],
      "source": [
        "df['AvgMonthlyTickets'] = np.where(df['tenure'] > 0,\n",
        "                                   (df['numAdminTickets'] + df['numTechTickets']) / df['tenure'],\n",
        "                                   0).round(4)"
      ]
    },
    {
      "cell_type": "markdown",
      "id": "8341ea93",
      "metadata": {
        "id": "8341ea93"
      },
      "source": [
        "Measures how often a customer raises support tickets relative to their tenure."
      ]
    },
    {
      "cell_type": "code",
      "execution_count": 29,
      "id": "ae492de0",
      "metadata": {
        "colab": {
          "base_uri": "https://localhost:8080/"
        },
        "id": "ae492de0",
        "outputId": "058a4e23-365d-4387-ab0d-1ce79380946e"
      },
      "outputs": [
        {
          "output_type": "stream",
          "name": "stdout",
          "text": [
            "   tenure TenureGroup  AvgMonthlyTickets\n",
            "0       1      0-1 yr             0.0000\n",
            "1      34     2-4 yrs             0.0000\n",
            "2       2      0-1 yr             0.0000\n",
            "3      45     2-4 yrs             0.0667\n",
            "4       2      0-1 yr             0.0000\n"
          ]
        }
      ],
      "source": [
        "print(df[['tenure', 'TenureGroup', 'AvgMonthlyTickets']].head())"
      ]
    },
    {
      "cell_type": "markdown",
      "id": "fd7ffd57-a7e9-44ee-ae56-14086c3ee6e0",
      "metadata": {
        "id": "fd7ffd57-a7e9-44ee-ae56-14086c3ee6e0"
      },
      "source": [
        "#### df.head()"
      ]
    },
    {
      "cell_type": "code",
      "execution_count": 30,
      "id": "be2f5f54",
      "metadata": {
        "colab": {
          "base_uri": "https://localhost:8080/"
        },
        "id": "be2f5f54",
        "outputId": "bf1dc58d-7168-4c64-8c9d-cf93ee132d10"
      },
      "outputs": [
        {
          "output_type": "stream",
          "name": "stdout",
          "text": [
            "<class 'pandas.core.frame.DataFrame'>\n",
            "Index: 7032 entries, 0 to 7042\n",
            "Data columns (total 25 columns):\n",
            " #   Column             Non-Null Count  Dtype   \n",
            "---  ------             --------------  -----   \n",
            " 0   customerID         7032 non-null   object  \n",
            " 1   gender             7032 non-null   object  \n",
            " 2   SeniorCitizen      7032 non-null   int64   \n",
            " 3   Partner            7032 non-null   object  \n",
            " 4   Dependents         7032 non-null   object  \n",
            " 5   tenure             7032 non-null   int64   \n",
            " 6   PhoneService       7032 non-null   object  \n",
            " 7   MultipleLines      7032 non-null   object  \n",
            " 8   InternetService    7032 non-null   object  \n",
            " 9   OnlineSecurity     7032 non-null   object  \n",
            " 10  OnlineBackup       7032 non-null   object  \n",
            " 11  DeviceProtection   7032 non-null   object  \n",
            " 12  TechSupport        7032 non-null   object  \n",
            " 13  StreamingTV        7032 non-null   object  \n",
            " 14  StreamingMovies    7032 non-null   object  \n",
            " 15  Contract           7032 non-null   object  \n",
            " 16  PaperlessBilling   7032 non-null   object  \n",
            " 17  PaymentMethod      7032 non-null   object  \n",
            " 18  MonthlyCharges     7032 non-null   float64 \n",
            " 19  TotalCharges       7032 non-null   float64 \n",
            " 20  numAdminTickets    7032 non-null   int64   \n",
            " 21  numTechTickets     7032 non-null   int64   \n",
            " 22  Churn              7032 non-null   object  \n",
            " 23  TenureGroup        7032 non-null   category\n",
            " 24  AvgMonthlyTickets  7032 non-null   float64 \n",
            "dtypes: category(1), float64(3), int64(4), object(17)\n",
            "memory usage: 1.3+ MB\n"
          ]
        }
      ],
      "source": [
        "df.info()"
      ]
    },
    {
      "cell_type": "markdown",
      "id": "6760492e",
      "metadata": {
        "id": "6760492e"
      },
      "source": [
        "### Task 3: Building the End-to-End Pipeline"
      ]
    },
    {
      "cell_type": "code",
      "execution_count": 31,
      "id": "e15e07f0",
      "metadata": {
        "id": "e15e07f0"
      },
      "outputs": [],
      "source": [
        "from sklearn.model_selection import train_test_split\n",
        "from sklearn.compose import ColumnTransformer\n",
        "from sklearn.pipeline import Pipeline\n",
        "from sklearn.preprocessing import OneHotEncoder, StandardScaler\n",
        "from sklearn.impute import SimpleImputer\n",
        "from sklearn.linear_model import LogisticRegression"
      ]
    },
    {
      "cell_type": "code",
      "execution_count": 32,
      "id": "694182d4",
      "metadata": {
        "id": "694182d4"
      },
      "outputs": [],
      "source": [
        "X = df.drop(columns=['Churn', 'customerID', 'TotalCharges'])\n",
        "y = df['Churn'].map({'Yes': 1, 'No': 0})"
      ]
    },
    {
      "cell_type": "code",
      "execution_count": 33,
      "id": "a31f938e",
      "metadata": {
        "colab": {
          "base_uri": "https://localhost:8080/",
          "height": 340
        },
        "id": "a31f938e",
        "outputId": "46fc3537-5c6d-40d7-8cfb-77512cb069fc"
      },
      "outputs": [
        {
          "output_type": "stream",
          "name": "stdout",
          "text": [
            "Numeric: ['SeniorCitizen', 'tenure', 'MonthlyCharges', 'numAdminTickets', 'numTechTickets', 'AvgMonthlyTickets']\n",
            "Categorical: ['gender', 'Partner', 'Dependents', 'PhoneService', 'MultipleLines', 'InternetService', 'OnlineSecurity', 'OnlineBackup', 'DeviceProtection', 'TechSupport', 'StreamingTV', 'StreamingMovies', 'Contract', 'PaperlessBilling', 'PaymentMethod', 'TenureGroup']\n"
          ]
        },
        {
          "output_type": "execute_result",
          "data": {
            "text/plain": [
              "Pipeline(steps=[('preprocessor',\n",
              "                 ColumnTransformer(transformers=[('num',\n",
              "                                                  Pipeline(steps=[('imputer',\n",
              "                                                                   SimpleImputer(strategy='median')),\n",
              "                                                                  ('scaler',\n",
              "                                                                   StandardScaler())]),\n",
              "                                                  ['SeniorCitizen', 'tenure',\n",
              "                                                   'MonthlyCharges',\n",
              "                                                   'numAdminTickets',\n",
              "                                                   'numTechTickets',\n",
              "                                                   'AvgMonthlyTickets']),\n",
              "                                                 ('cat',\n",
              "                                                  Pipeline(steps=[('imputer',\n",
              "                                                                   SimpleImputer(strategy='most_frequent')),\n",
              "                                                                  ('encoder',\n",
              "                                                                   On...der(handle_unknown='ignore'))]),\n",
              "                                                  ['gender', 'Partner',\n",
              "                                                   'Dependents', 'PhoneService',\n",
              "                                                   'MultipleLines',\n",
              "                                                   'InternetService',\n",
              "                                                   'OnlineSecurity',\n",
              "                                                   'OnlineBackup',\n",
              "                                                   'DeviceProtection',\n",
              "                                                   'TechSupport', 'StreamingTV',\n",
              "                                                   'StreamingMovies',\n",
              "                                                   'Contract',\n",
              "                                                   'PaperlessBilling',\n",
              "                                                   'PaymentMethod',\n",
              "                                                   'TenureGroup'])])),\n",
              "                ('classifier',\n",
              "                 LogisticRegression(class_weight='balanced', max_iter=1000))])"
            ],
            "text/html": [
              "<style>#sk-container-id-1 {\n",
              "  /* Definition of color scheme common for light and dark mode */\n",
              "  --sklearn-color-text: #000;\n",
              "  --sklearn-color-text-muted: #666;\n",
              "  --sklearn-color-line: gray;\n",
              "  /* Definition of color scheme for unfitted estimators */\n",
              "  --sklearn-color-unfitted-level-0: #fff5e6;\n",
              "  --sklearn-color-unfitted-level-1: #f6e4d2;\n",
              "  --sklearn-color-unfitted-level-2: #ffe0b3;\n",
              "  --sklearn-color-unfitted-level-3: chocolate;\n",
              "  /* Definition of color scheme for fitted estimators */\n",
              "  --sklearn-color-fitted-level-0: #f0f8ff;\n",
              "  --sklearn-color-fitted-level-1: #d4ebff;\n",
              "  --sklearn-color-fitted-level-2: #b3dbfd;\n",
              "  --sklearn-color-fitted-level-3: cornflowerblue;\n",
              "\n",
              "  /* Specific color for light theme */\n",
              "  --sklearn-color-text-on-default-background: var(--sg-text-color, var(--theme-code-foreground, var(--jp-content-font-color1, black)));\n",
              "  --sklearn-color-background: var(--sg-background-color, var(--theme-background, var(--jp-layout-color0, white)));\n",
              "  --sklearn-color-border-box: var(--sg-text-color, var(--theme-code-foreground, var(--jp-content-font-color1, black)));\n",
              "  --sklearn-color-icon: #696969;\n",
              "\n",
              "  @media (prefers-color-scheme: dark) {\n",
              "    /* Redefinition of color scheme for dark theme */\n",
              "    --sklearn-color-text-on-default-background: var(--sg-text-color, var(--theme-code-foreground, var(--jp-content-font-color1, white)));\n",
              "    --sklearn-color-background: var(--sg-background-color, var(--theme-background, var(--jp-layout-color0, #111)));\n",
              "    --sklearn-color-border-box: var(--sg-text-color, var(--theme-code-foreground, var(--jp-content-font-color1, white)));\n",
              "    --sklearn-color-icon: #878787;\n",
              "  }\n",
              "}\n",
              "\n",
              "#sk-container-id-1 {\n",
              "  color: var(--sklearn-color-text);\n",
              "}\n",
              "\n",
              "#sk-container-id-1 pre {\n",
              "  padding: 0;\n",
              "}\n",
              "\n",
              "#sk-container-id-1 input.sk-hidden--visually {\n",
              "  border: 0;\n",
              "  clip: rect(1px 1px 1px 1px);\n",
              "  clip: rect(1px, 1px, 1px, 1px);\n",
              "  height: 1px;\n",
              "  margin: -1px;\n",
              "  overflow: hidden;\n",
              "  padding: 0;\n",
              "  position: absolute;\n",
              "  width: 1px;\n",
              "}\n",
              "\n",
              "#sk-container-id-1 div.sk-dashed-wrapped {\n",
              "  border: 1px dashed var(--sklearn-color-line);\n",
              "  margin: 0 0.4em 0.5em 0.4em;\n",
              "  box-sizing: border-box;\n",
              "  padding-bottom: 0.4em;\n",
              "  background-color: var(--sklearn-color-background);\n",
              "}\n",
              "\n",
              "#sk-container-id-1 div.sk-container {\n",
              "  /* jupyter's `normalize.less` sets `[hidden] { display: none; }`\n",
              "     but bootstrap.min.css set `[hidden] { display: none !important; }`\n",
              "     so we also need the `!important` here to be able to override the\n",
              "     default hidden behavior on the sphinx rendered scikit-learn.org.\n",
              "     See: https://github.com/scikit-learn/scikit-learn/issues/21755 */\n",
              "  display: inline-block !important;\n",
              "  position: relative;\n",
              "}\n",
              "\n",
              "#sk-container-id-1 div.sk-text-repr-fallback {\n",
              "  display: none;\n",
              "}\n",
              "\n",
              "div.sk-parallel-item,\n",
              "div.sk-serial,\n",
              "div.sk-item {\n",
              "  /* draw centered vertical line to link estimators */\n",
              "  background-image: linear-gradient(var(--sklearn-color-text-on-default-background), var(--sklearn-color-text-on-default-background));\n",
              "  background-size: 2px 100%;\n",
              "  background-repeat: no-repeat;\n",
              "  background-position: center center;\n",
              "}\n",
              "\n",
              "/* Parallel-specific style estimator block */\n",
              "\n",
              "#sk-container-id-1 div.sk-parallel-item::after {\n",
              "  content: \"\";\n",
              "  width: 100%;\n",
              "  border-bottom: 2px solid var(--sklearn-color-text-on-default-background);\n",
              "  flex-grow: 1;\n",
              "}\n",
              "\n",
              "#sk-container-id-1 div.sk-parallel {\n",
              "  display: flex;\n",
              "  align-items: stretch;\n",
              "  justify-content: center;\n",
              "  background-color: var(--sklearn-color-background);\n",
              "  position: relative;\n",
              "}\n",
              "\n",
              "#sk-container-id-1 div.sk-parallel-item {\n",
              "  display: flex;\n",
              "  flex-direction: column;\n",
              "}\n",
              "\n",
              "#sk-container-id-1 div.sk-parallel-item:first-child::after {\n",
              "  align-self: flex-end;\n",
              "  width: 50%;\n",
              "}\n",
              "\n",
              "#sk-container-id-1 div.sk-parallel-item:last-child::after {\n",
              "  align-self: flex-start;\n",
              "  width: 50%;\n",
              "}\n",
              "\n",
              "#sk-container-id-1 div.sk-parallel-item:only-child::after {\n",
              "  width: 0;\n",
              "}\n",
              "\n",
              "/* Serial-specific style estimator block */\n",
              "\n",
              "#sk-container-id-1 div.sk-serial {\n",
              "  display: flex;\n",
              "  flex-direction: column;\n",
              "  align-items: center;\n",
              "  background-color: var(--sklearn-color-background);\n",
              "  padding-right: 1em;\n",
              "  padding-left: 1em;\n",
              "}\n",
              "\n",
              "\n",
              "/* Toggleable style: style used for estimator/Pipeline/ColumnTransformer box that is\n",
              "clickable and can be expanded/collapsed.\n",
              "- Pipeline and ColumnTransformer use this feature and define the default style\n",
              "- Estimators will overwrite some part of the style using the `sk-estimator` class\n",
              "*/\n",
              "\n",
              "/* Pipeline and ColumnTransformer style (default) */\n",
              "\n",
              "#sk-container-id-1 div.sk-toggleable {\n",
              "  /* Default theme specific background. It is overwritten whether we have a\n",
              "  specific estimator or a Pipeline/ColumnTransformer */\n",
              "  background-color: var(--sklearn-color-background);\n",
              "}\n",
              "\n",
              "/* Toggleable label */\n",
              "#sk-container-id-1 label.sk-toggleable__label {\n",
              "  cursor: pointer;\n",
              "  display: flex;\n",
              "  width: 100%;\n",
              "  margin-bottom: 0;\n",
              "  padding: 0.5em;\n",
              "  box-sizing: border-box;\n",
              "  text-align: center;\n",
              "  align-items: start;\n",
              "  justify-content: space-between;\n",
              "  gap: 0.5em;\n",
              "}\n",
              "\n",
              "#sk-container-id-1 label.sk-toggleable__label .caption {\n",
              "  font-size: 0.6rem;\n",
              "  font-weight: lighter;\n",
              "  color: var(--sklearn-color-text-muted);\n",
              "}\n",
              "\n",
              "#sk-container-id-1 label.sk-toggleable__label-arrow:before {\n",
              "  /* Arrow on the left of the label */\n",
              "  content: \"▸\";\n",
              "  float: left;\n",
              "  margin-right: 0.25em;\n",
              "  color: var(--sklearn-color-icon);\n",
              "}\n",
              "\n",
              "#sk-container-id-1 label.sk-toggleable__label-arrow:hover:before {\n",
              "  color: var(--sklearn-color-text);\n",
              "}\n",
              "\n",
              "/* Toggleable content - dropdown */\n",
              "\n",
              "#sk-container-id-1 div.sk-toggleable__content {\n",
              "  max-height: 0;\n",
              "  max-width: 0;\n",
              "  overflow: hidden;\n",
              "  text-align: left;\n",
              "  /* unfitted */\n",
              "  background-color: var(--sklearn-color-unfitted-level-0);\n",
              "}\n",
              "\n",
              "#sk-container-id-1 div.sk-toggleable__content.fitted {\n",
              "  /* fitted */\n",
              "  background-color: var(--sklearn-color-fitted-level-0);\n",
              "}\n",
              "\n",
              "#sk-container-id-1 div.sk-toggleable__content pre {\n",
              "  margin: 0.2em;\n",
              "  border-radius: 0.25em;\n",
              "  color: var(--sklearn-color-text);\n",
              "  /* unfitted */\n",
              "  background-color: var(--sklearn-color-unfitted-level-0);\n",
              "}\n",
              "\n",
              "#sk-container-id-1 div.sk-toggleable__content.fitted pre {\n",
              "  /* unfitted */\n",
              "  background-color: var(--sklearn-color-fitted-level-0);\n",
              "}\n",
              "\n",
              "#sk-container-id-1 input.sk-toggleable__control:checked~div.sk-toggleable__content {\n",
              "  /* Expand drop-down */\n",
              "  max-height: 200px;\n",
              "  max-width: 100%;\n",
              "  overflow: auto;\n",
              "}\n",
              "\n",
              "#sk-container-id-1 input.sk-toggleable__control:checked~label.sk-toggleable__label-arrow:before {\n",
              "  content: \"▾\";\n",
              "}\n",
              "\n",
              "/* Pipeline/ColumnTransformer-specific style */\n",
              "\n",
              "#sk-container-id-1 div.sk-label input.sk-toggleable__control:checked~label.sk-toggleable__label {\n",
              "  color: var(--sklearn-color-text);\n",
              "  background-color: var(--sklearn-color-unfitted-level-2);\n",
              "}\n",
              "\n",
              "#sk-container-id-1 div.sk-label.fitted input.sk-toggleable__control:checked~label.sk-toggleable__label {\n",
              "  background-color: var(--sklearn-color-fitted-level-2);\n",
              "}\n",
              "\n",
              "/* Estimator-specific style */\n",
              "\n",
              "/* Colorize estimator box */\n",
              "#sk-container-id-1 div.sk-estimator input.sk-toggleable__control:checked~label.sk-toggleable__label {\n",
              "  /* unfitted */\n",
              "  background-color: var(--sklearn-color-unfitted-level-2);\n",
              "}\n",
              "\n",
              "#sk-container-id-1 div.sk-estimator.fitted input.sk-toggleable__control:checked~label.sk-toggleable__label {\n",
              "  /* fitted */\n",
              "  background-color: var(--sklearn-color-fitted-level-2);\n",
              "}\n",
              "\n",
              "#sk-container-id-1 div.sk-label label.sk-toggleable__label,\n",
              "#sk-container-id-1 div.sk-label label {\n",
              "  /* The background is the default theme color */\n",
              "  color: var(--sklearn-color-text-on-default-background);\n",
              "}\n",
              "\n",
              "/* On hover, darken the color of the background */\n",
              "#sk-container-id-1 div.sk-label:hover label.sk-toggleable__label {\n",
              "  color: var(--sklearn-color-text);\n",
              "  background-color: var(--sklearn-color-unfitted-level-2);\n",
              "}\n",
              "\n",
              "/* Label box, darken color on hover, fitted */\n",
              "#sk-container-id-1 div.sk-label.fitted:hover label.sk-toggleable__label.fitted {\n",
              "  color: var(--sklearn-color-text);\n",
              "  background-color: var(--sklearn-color-fitted-level-2);\n",
              "}\n",
              "\n",
              "/* Estimator label */\n",
              "\n",
              "#sk-container-id-1 div.sk-label label {\n",
              "  font-family: monospace;\n",
              "  font-weight: bold;\n",
              "  display: inline-block;\n",
              "  line-height: 1.2em;\n",
              "}\n",
              "\n",
              "#sk-container-id-1 div.sk-label-container {\n",
              "  text-align: center;\n",
              "}\n",
              "\n",
              "/* Estimator-specific */\n",
              "#sk-container-id-1 div.sk-estimator {\n",
              "  font-family: monospace;\n",
              "  border: 1px dotted var(--sklearn-color-border-box);\n",
              "  border-radius: 0.25em;\n",
              "  box-sizing: border-box;\n",
              "  margin-bottom: 0.5em;\n",
              "  /* unfitted */\n",
              "  background-color: var(--sklearn-color-unfitted-level-0);\n",
              "}\n",
              "\n",
              "#sk-container-id-1 div.sk-estimator.fitted {\n",
              "  /* fitted */\n",
              "  background-color: var(--sklearn-color-fitted-level-0);\n",
              "}\n",
              "\n",
              "/* on hover */\n",
              "#sk-container-id-1 div.sk-estimator:hover {\n",
              "  /* unfitted */\n",
              "  background-color: var(--sklearn-color-unfitted-level-2);\n",
              "}\n",
              "\n",
              "#sk-container-id-1 div.sk-estimator.fitted:hover {\n",
              "  /* fitted */\n",
              "  background-color: var(--sklearn-color-fitted-level-2);\n",
              "}\n",
              "\n",
              "/* Specification for estimator info (e.g. \"i\" and \"?\") */\n",
              "\n",
              "/* Common style for \"i\" and \"?\" */\n",
              "\n",
              ".sk-estimator-doc-link,\n",
              "a:link.sk-estimator-doc-link,\n",
              "a:visited.sk-estimator-doc-link {\n",
              "  float: right;\n",
              "  font-size: smaller;\n",
              "  line-height: 1em;\n",
              "  font-family: monospace;\n",
              "  background-color: var(--sklearn-color-background);\n",
              "  border-radius: 1em;\n",
              "  height: 1em;\n",
              "  width: 1em;\n",
              "  text-decoration: none !important;\n",
              "  margin-left: 0.5em;\n",
              "  text-align: center;\n",
              "  /* unfitted */\n",
              "  border: var(--sklearn-color-unfitted-level-1) 1pt solid;\n",
              "  color: var(--sklearn-color-unfitted-level-1);\n",
              "}\n",
              "\n",
              ".sk-estimator-doc-link.fitted,\n",
              "a:link.sk-estimator-doc-link.fitted,\n",
              "a:visited.sk-estimator-doc-link.fitted {\n",
              "  /* fitted */\n",
              "  border: var(--sklearn-color-fitted-level-1) 1pt solid;\n",
              "  color: var(--sklearn-color-fitted-level-1);\n",
              "}\n",
              "\n",
              "/* On hover */\n",
              "div.sk-estimator:hover .sk-estimator-doc-link:hover,\n",
              ".sk-estimator-doc-link:hover,\n",
              "div.sk-label-container:hover .sk-estimator-doc-link:hover,\n",
              ".sk-estimator-doc-link:hover {\n",
              "  /* unfitted */\n",
              "  background-color: var(--sklearn-color-unfitted-level-3);\n",
              "  color: var(--sklearn-color-background);\n",
              "  text-decoration: none;\n",
              "}\n",
              "\n",
              "div.sk-estimator.fitted:hover .sk-estimator-doc-link.fitted:hover,\n",
              ".sk-estimator-doc-link.fitted:hover,\n",
              "div.sk-label-container:hover .sk-estimator-doc-link.fitted:hover,\n",
              ".sk-estimator-doc-link.fitted:hover {\n",
              "  /* fitted */\n",
              "  background-color: var(--sklearn-color-fitted-level-3);\n",
              "  color: var(--sklearn-color-background);\n",
              "  text-decoration: none;\n",
              "}\n",
              "\n",
              "/* Span, style for the box shown on hovering the info icon */\n",
              ".sk-estimator-doc-link span {\n",
              "  display: none;\n",
              "  z-index: 9999;\n",
              "  position: relative;\n",
              "  font-weight: normal;\n",
              "  right: .2ex;\n",
              "  padding: .5ex;\n",
              "  margin: .5ex;\n",
              "  width: min-content;\n",
              "  min-width: 20ex;\n",
              "  max-width: 50ex;\n",
              "  color: var(--sklearn-color-text);\n",
              "  box-shadow: 2pt 2pt 4pt #999;\n",
              "  /* unfitted */\n",
              "  background: var(--sklearn-color-unfitted-level-0);\n",
              "  border: .5pt solid var(--sklearn-color-unfitted-level-3);\n",
              "}\n",
              "\n",
              ".sk-estimator-doc-link.fitted span {\n",
              "  /* fitted */\n",
              "  background: var(--sklearn-color-fitted-level-0);\n",
              "  border: var(--sklearn-color-fitted-level-3);\n",
              "}\n",
              "\n",
              ".sk-estimator-doc-link:hover span {\n",
              "  display: block;\n",
              "}\n",
              "\n",
              "/* \"?\"-specific style due to the `<a>` HTML tag */\n",
              "\n",
              "#sk-container-id-1 a.estimator_doc_link {\n",
              "  float: right;\n",
              "  font-size: 1rem;\n",
              "  line-height: 1em;\n",
              "  font-family: monospace;\n",
              "  background-color: var(--sklearn-color-background);\n",
              "  border-radius: 1rem;\n",
              "  height: 1rem;\n",
              "  width: 1rem;\n",
              "  text-decoration: none;\n",
              "  /* unfitted */\n",
              "  color: var(--sklearn-color-unfitted-level-1);\n",
              "  border: var(--sklearn-color-unfitted-level-1) 1pt solid;\n",
              "}\n",
              "\n",
              "#sk-container-id-1 a.estimator_doc_link.fitted {\n",
              "  /* fitted */\n",
              "  border: var(--sklearn-color-fitted-level-1) 1pt solid;\n",
              "  color: var(--sklearn-color-fitted-level-1);\n",
              "}\n",
              "\n",
              "/* On hover */\n",
              "#sk-container-id-1 a.estimator_doc_link:hover {\n",
              "  /* unfitted */\n",
              "  background-color: var(--sklearn-color-unfitted-level-3);\n",
              "  color: var(--sklearn-color-background);\n",
              "  text-decoration: none;\n",
              "}\n",
              "\n",
              "#sk-container-id-1 a.estimator_doc_link.fitted:hover {\n",
              "  /* fitted */\n",
              "  background-color: var(--sklearn-color-fitted-level-3);\n",
              "}\n",
              "</style><div id=\"sk-container-id-1\" class=\"sk-top-container\"><div class=\"sk-text-repr-fallback\"><pre>Pipeline(steps=[(&#x27;preprocessor&#x27;,\n",
              "                 ColumnTransformer(transformers=[(&#x27;num&#x27;,\n",
              "                                                  Pipeline(steps=[(&#x27;imputer&#x27;,\n",
              "                                                                   SimpleImputer(strategy=&#x27;median&#x27;)),\n",
              "                                                                  (&#x27;scaler&#x27;,\n",
              "                                                                   StandardScaler())]),\n",
              "                                                  [&#x27;SeniorCitizen&#x27;, &#x27;tenure&#x27;,\n",
              "                                                   &#x27;MonthlyCharges&#x27;,\n",
              "                                                   &#x27;numAdminTickets&#x27;,\n",
              "                                                   &#x27;numTechTickets&#x27;,\n",
              "                                                   &#x27;AvgMonthlyTickets&#x27;]),\n",
              "                                                 (&#x27;cat&#x27;,\n",
              "                                                  Pipeline(steps=[(&#x27;imputer&#x27;,\n",
              "                                                                   SimpleImputer(strategy=&#x27;most_frequent&#x27;)),\n",
              "                                                                  (&#x27;encoder&#x27;,\n",
              "                                                                   On...der(handle_unknown=&#x27;ignore&#x27;))]),\n",
              "                                                  [&#x27;gender&#x27;, &#x27;Partner&#x27;,\n",
              "                                                   &#x27;Dependents&#x27;, &#x27;PhoneService&#x27;,\n",
              "                                                   &#x27;MultipleLines&#x27;,\n",
              "                                                   &#x27;InternetService&#x27;,\n",
              "                                                   &#x27;OnlineSecurity&#x27;,\n",
              "                                                   &#x27;OnlineBackup&#x27;,\n",
              "                                                   &#x27;DeviceProtection&#x27;,\n",
              "                                                   &#x27;TechSupport&#x27;, &#x27;StreamingTV&#x27;,\n",
              "                                                   &#x27;StreamingMovies&#x27;,\n",
              "                                                   &#x27;Contract&#x27;,\n",
              "                                                   &#x27;PaperlessBilling&#x27;,\n",
              "                                                   &#x27;PaymentMethod&#x27;,\n",
              "                                                   &#x27;TenureGroup&#x27;])])),\n",
              "                (&#x27;classifier&#x27;,\n",
              "                 LogisticRegression(class_weight=&#x27;balanced&#x27;, max_iter=1000))])</pre><b>In a Jupyter environment, please rerun this cell to show the HTML representation or trust the notebook. <br />On GitHub, the HTML representation is unable to render, please try loading this page with nbviewer.org.</b></div><div class=\"sk-container\" hidden><div class=\"sk-item sk-dashed-wrapped\"><div class=\"sk-label-container\"><div class=\"sk-label fitted sk-toggleable\"><input class=\"sk-toggleable__control sk-hidden--visually\" id=\"sk-estimator-id-1\" type=\"checkbox\" ><label for=\"sk-estimator-id-1\" class=\"sk-toggleable__label fitted sk-toggleable__label-arrow\"><div><div>Pipeline</div></div><div><a class=\"sk-estimator-doc-link fitted\" rel=\"noreferrer\" target=\"_blank\" href=\"https://scikit-learn.org/1.6/modules/generated/sklearn.pipeline.Pipeline.html\">?<span>Documentation for Pipeline</span></a><span class=\"sk-estimator-doc-link fitted\">i<span>Fitted</span></span></div></label><div class=\"sk-toggleable__content fitted\"><pre>Pipeline(steps=[(&#x27;preprocessor&#x27;,\n",
              "                 ColumnTransformer(transformers=[(&#x27;num&#x27;,\n",
              "                                                  Pipeline(steps=[(&#x27;imputer&#x27;,\n",
              "                                                                   SimpleImputer(strategy=&#x27;median&#x27;)),\n",
              "                                                                  (&#x27;scaler&#x27;,\n",
              "                                                                   StandardScaler())]),\n",
              "                                                  [&#x27;SeniorCitizen&#x27;, &#x27;tenure&#x27;,\n",
              "                                                   &#x27;MonthlyCharges&#x27;,\n",
              "                                                   &#x27;numAdminTickets&#x27;,\n",
              "                                                   &#x27;numTechTickets&#x27;,\n",
              "                                                   &#x27;AvgMonthlyTickets&#x27;]),\n",
              "                                                 (&#x27;cat&#x27;,\n",
              "                                                  Pipeline(steps=[(&#x27;imputer&#x27;,\n",
              "                                                                   SimpleImputer(strategy=&#x27;most_frequent&#x27;)),\n",
              "                                                                  (&#x27;encoder&#x27;,\n",
              "                                                                   On...der(handle_unknown=&#x27;ignore&#x27;))]),\n",
              "                                                  [&#x27;gender&#x27;, &#x27;Partner&#x27;,\n",
              "                                                   &#x27;Dependents&#x27;, &#x27;PhoneService&#x27;,\n",
              "                                                   &#x27;MultipleLines&#x27;,\n",
              "                                                   &#x27;InternetService&#x27;,\n",
              "                                                   &#x27;OnlineSecurity&#x27;,\n",
              "                                                   &#x27;OnlineBackup&#x27;,\n",
              "                                                   &#x27;DeviceProtection&#x27;,\n",
              "                                                   &#x27;TechSupport&#x27;, &#x27;StreamingTV&#x27;,\n",
              "                                                   &#x27;StreamingMovies&#x27;,\n",
              "                                                   &#x27;Contract&#x27;,\n",
              "                                                   &#x27;PaperlessBilling&#x27;,\n",
              "                                                   &#x27;PaymentMethod&#x27;,\n",
              "                                                   &#x27;TenureGroup&#x27;])])),\n",
              "                (&#x27;classifier&#x27;,\n",
              "                 LogisticRegression(class_weight=&#x27;balanced&#x27;, max_iter=1000))])</pre></div> </div></div><div class=\"sk-serial\"><div class=\"sk-item sk-dashed-wrapped\"><div class=\"sk-label-container\"><div class=\"sk-label fitted sk-toggleable\"><input class=\"sk-toggleable__control sk-hidden--visually\" id=\"sk-estimator-id-2\" type=\"checkbox\" ><label for=\"sk-estimator-id-2\" class=\"sk-toggleable__label fitted sk-toggleable__label-arrow\"><div><div>preprocessor: ColumnTransformer</div></div><div><a class=\"sk-estimator-doc-link fitted\" rel=\"noreferrer\" target=\"_blank\" href=\"https://scikit-learn.org/1.6/modules/generated/sklearn.compose.ColumnTransformer.html\">?<span>Documentation for preprocessor: ColumnTransformer</span></a></div></label><div class=\"sk-toggleable__content fitted\"><pre>ColumnTransformer(transformers=[(&#x27;num&#x27;,\n",
              "                                 Pipeline(steps=[(&#x27;imputer&#x27;,\n",
              "                                                  SimpleImputer(strategy=&#x27;median&#x27;)),\n",
              "                                                 (&#x27;scaler&#x27;, StandardScaler())]),\n",
              "                                 [&#x27;SeniorCitizen&#x27;, &#x27;tenure&#x27;, &#x27;MonthlyCharges&#x27;,\n",
              "                                  &#x27;numAdminTickets&#x27;, &#x27;numTechTickets&#x27;,\n",
              "                                  &#x27;AvgMonthlyTickets&#x27;]),\n",
              "                                (&#x27;cat&#x27;,\n",
              "                                 Pipeline(steps=[(&#x27;imputer&#x27;,\n",
              "                                                  SimpleImputer(strategy=&#x27;most_frequent&#x27;)),\n",
              "                                                 (&#x27;encoder&#x27;,\n",
              "                                                  OneHotEncoder(handle_unknown=&#x27;ignore&#x27;))]),\n",
              "                                 [&#x27;gender&#x27;, &#x27;Partner&#x27;, &#x27;Dependents&#x27;,\n",
              "                                  &#x27;PhoneService&#x27;, &#x27;MultipleLines&#x27;,\n",
              "                                  &#x27;InternetService&#x27;, &#x27;OnlineSecurity&#x27;,\n",
              "                                  &#x27;OnlineBackup&#x27;, &#x27;DeviceProtection&#x27;,\n",
              "                                  &#x27;TechSupport&#x27;, &#x27;StreamingTV&#x27;,\n",
              "                                  &#x27;StreamingMovies&#x27;, &#x27;Contract&#x27;,\n",
              "                                  &#x27;PaperlessBilling&#x27;, &#x27;PaymentMethod&#x27;,\n",
              "                                  &#x27;TenureGroup&#x27;])])</pre></div> </div></div><div class=\"sk-parallel\"><div class=\"sk-parallel-item\"><div class=\"sk-item\"><div class=\"sk-label-container\"><div class=\"sk-label fitted sk-toggleable\"><input class=\"sk-toggleable__control sk-hidden--visually\" id=\"sk-estimator-id-3\" type=\"checkbox\" ><label for=\"sk-estimator-id-3\" class=\"sk-toggleable__label fitted sk-toggleable__label-arrow\"><div><div>num</div></div></label><div class=\"sk-toggleable__content fitted\"><pre>[&#x27;SeniorCitizen&#x27;, &#x27;tenure&#x27;, &#x27;MonthlyCharges&#x27;, &#x27;numAdminTickets&#x27;, &#x27;numTechTickets&#x27;, &#x27;AvgMonthlyTickets&#x27;]</pre></div> </div></div><div class=\"sk-serial\"><div class=\"sk-item\"><div class=\"sk-serial\"><div class=\"sk-item\"><div class=\"sk-estimator fitted sk-toggleable\"><input class=\"sk-toggleable__control sk-hidden--visually\" id=\"sk-estimator-id-4\" type=\"checkbox\" ><label for=\"sk-estimator-id-4\" class=\"sk-toggleable__label fitted sk-toggleable__label-arrow\"><div><div>SimpleImputer</div></div><div><a class=\"sk-estimator-doc-link fitted\" rel=\"noreferrer\" target=\"_blank\" href=\"https://scikit-learn.org/1.6/modules/generated/sklearn.impute.SimpleImputer.html\">?<span>Documentation for SimpleImputer</span></a></div></label><div class=\"sk-toggleable__content fitted\"><pre>SimpleImputer(strategy=&#x27;median&#x27;)</pre></div> </div></div><div class=\"sk-item\"><div class=\"sk-estimator fitted sk-toggleable\"><input class=\"sk-toggleable__control sk-hidden--visually\" id=\"sk-estimator-id-5\" type=\"checkbox\" ><label for=\"sk-estimator-id-5\" class=\"sk-toggleable__label fitted sk-toggleable__label-arrow\"><div><div>StandardScaler</div></div><div><a class=\"sk-estimator-doc-link fitted\" rel=\"noreferrer\" target=\"_blank\" href=\"https://scikit-learn.org/1.6/modules/generated/sklearn.preprocessing.StandardScaler.html\">?<span>Documentation for StandardScaler</span></a></div></label><div class=\"sk-toggleable__content fitted\"><pre>StandardScaler()</pre></div> </div></div></div></div></div></div></div><div class=\"sk-parallel-item\"><div class=\"sk-item\"><div class=\"sk-label-container\"><div class=\"sk-label fitted sk-toggleable\"><input class=\"sk-toggleable__control sk-hidden--visually\" id=\"sk-estimator-id-6\" type=\"checkbox\" ><label for=\"sk-estimator-id-6\" class=\"sk-toggleable__label fitted sk-toggleable__label-arrow\"><div><div>cat</div></div></label><div class=\"sk-toggleable__content fitted\"><pre>[&#x27;gender&#x27;, &#x27;Partner&#x27;, &#x27;Dependents&#x27;, &#x27;PhoneService&#x27;, &#x27;MultipleLines&#x27;, &#x27;InternetService&#x27;, &#x27;OnlineSecurity&#x27;, &#x27;OnlineBackup&#x27;, &#x27;DeviceProtection&#x27;, &#x27;TechSupport&#x27;, &#x27;StreamingTV&#x27;, &#x27;StreamingMovies&#x27;, &#x27;Contract&#x27;, &#x27;PaperlessBilling&#x27;, &#x27;PaymentMethod&#x27;, &#x27;TenureGroup&#x27;]</pre></div> </div></div><div class=\"sk-serial\"><div class=\"sk-item\"><div class=\"sk-serial\"><div class=\"sk-item\"><div class=\"sk-estimator fitted sk-toggleable\"><input class=\"sk-toggleable__control sk-hidden--visually\" id=\"sk-estimator-id-7\" type=\"checkbox\" ><label for=\"sk-estimator-id-7\" class=\"sk-toggleable__label fitted sk-toggleable__label-arrow\"><div><div>SimpleImputer</div></div><div><a class=\"sk-estimator-doc-link fitted\" rel=\"noreferrer\" target=\"_blank\" href=\"https://scikit-learn.org/1.6/modules/generated/sklearn.impute.SimpleImputer.html\">?<span>Documentation for SimpleImputer</span></a></div></label><div class=\"sk-toggleable__content fitted\"><pre>SimpleImputer(strategy=&#x27;most_frequent&#x27;)</pre></div> </div></div><div class=\"sk-item\"><div class=\"sk-estimator fitted sk-toggleable\"><input class=\"sk-toggleable__control sk-hidden--visually\" id=\"sk-estimator-id-8\" type=\"checkbox\" ><label for=\"sk-estimator-id-8\" class=\"sk-toggleable__label fitted sk-toggleable__label-arrow\"><div><div>OneHotEncoder</div></div><div><a class=\"sk-estimator-doc-link fitted\" rel=\"noreferrer\" target=\"_blank\" href=\"https://scikit-learn.org/1.6/modules/generated/sklearn.preprocessing.OneHotEncoder.html\">?<span>Documentation for OneHotEncoder</span></a></div></label><div class=\"sk-toggleable__content fitted\"><pre>OneHotEncoder(handle_unknown=&#x27;ignore&#x27;)</pre></div> </div></div></div></div></div></div></div></div></div><div class=\"sk-item\"><div class=\"sk-estimator fitted sk-toggleable\"><input class=\"sk-toggleable__control sk-hidden--visually\" id=\"sk-estimator-id-9\" type=\"checkbox\" ><label for=\"sk-estimator-id-9\" class=\"sk-toggleable__label fitted sk-toggleable__label-arrow\"><div><div>LogisticRegression</div></div><div><a class=\"sk-estimator-doc-link fitted\" rel=\"noreferrer\" target=\"_blank\" href=\"https://scikit-learn.org/1.6/modules/generated/sklearn.linear_model.LogisticRegression.html\">?<span>Documentation for LogisticRegression</span></a></div></label><div class=\"sk-toggleable__content fitted\"><pre>LogisticRegression(class_weight=&#x27;balanced&#x27;, max_iter=1000)</pre></div> </div></div></div></div></div></div>"
            ]
          },
          "metadata": {},
          "execution_count": 33
        }
      ],
      "source": [
        "numeric_features = X.select_dtypes(include=[np.number]).columns.tolist()\n",
        "categorical_features = X.select_dtypes(include=['object', 'category']).columns.tolist()\n",
        "\n",
        "print(\"Numeric:\", numeric_features)\n",
        "print(\"Categorical:\", categorical_features)\n",
        "\n",
        "numeric_transformer = Pipeline(steps=[\n",
        "    ('imputer', SimpleImputer(strategy='median')),\n",
        "    ('scaler', StandardScaler())\n",
        "])\n",
        "\n",
        "categorical_transformer = Pipeline(steps=[\n",
        "    ('imputer', SimpleImputer(strategy='most_frequent')),\n",
        "    ('encoder', OneHotEncoder(handle_unknown='ignore'))\n",
        "])\n",
        "\n",
        "preprocessor = ColumnTransformer(\n",
        "    transformers=[\n",
        "        ('num', numeric_transformer, numeric_features),\n",
        "        ('cat', categorical_transformer, categorical_features)\n",
        "    ]\n",
        ")\n",
        "\n",
        "pipeline = Pipeline(steps=[\n",
        "    ('preprocessor', preprocessor),\n",
        "    ('classifier', LogisticRegression(max_iter=1000,class_weight=\"balanced\"))\n",
        "])\n",
        "\n",
        "X_train, X_test, y_train, y_test = train_test_split(X, y, test_size=0.2, random_state=42)\n",
        "\n",
        "pipeline.fit(X_train, y_train)"
      ]
    },
    {
      "cell_type": "code",
      "execution_count": 36,
      "id": "e285ec6b",
      "metadata": {
        "colab": {
          "base_uri": "https://localhost:8080/"
        },
        "id": "e285ec6b",
        "outputId": "8bbaf573-168e-4b89-ec22-bda0c8dd2b7d"
      },
      "outputs": [
        {
          "output_type": "stream",
          "name": "stdout",
          "text": [
            "Logistic Regression Performance:\n",
            "Accuracy : 0.8188\n",
            "Precision: 0.6121\n",
            "Recall   : 0.8690\n",
            "\n",
            "Detailed Classification Report:\n",
            "              precision    recall  f1-score   support\n",
            "\n",
            "    No Churn       0.94      0.80      0.87      1033\n",
            "       Churn       0.61      0.87      0.72       374\n",
            "\n",
            "    accuracy                           0.82      1407\n",
            "   macro avg       0.78      0.83      0.79      1407\n",
            "weighted avg       0.86      0.82      0.83      1407\n",
            "\n"
          ]
        }
      ],
      "source": [
        "from sklearn.metrics import accuracy_score, precision_score, recall_score, classification_report\n",
        "y_pred = pipeline.predict(X_test)\n",
        "\n",
        "accuracy = accuracy_score(y_test, y_pred)\n",
        "precision = precision_score(y_test, y_pred)\n",
        "recall = recall_score(y_test, y_pred)\n",
        "\n",
        "print(\"Logistic Regression Performance:\")\n",
        "print(f\"Accuracy : {accuracy:.4f}\")\n",
        "print(f\"Precision: {precision:.4f}\")\n",
        "print(f\"Recall   : {recall:.4f}\")\n",
        "\n",
        "print(\"\\nDetailed Classification Report:\")\n",
        "print(classification_report(y_test, y_pred, target_names=[\"No Churn\", \"Churn\"]))"
      ]
    },
    {
      "cell_type": "markdown",
      "id": "99596d43-5a3b-4740-8710-5f8a688fab90",
      "metadata": {
        "id": "99596d43-5a3b-4740-8710-5f8a688fab90"
      },
      "source": [
        "In this task, I chose Logistic regression as it is the basic model for classification.\n",
        "\n",
        "Another model I chose was the Random forest, as it is an ensembling learning model, it generally gives better accuracy than the logistic regression or other linear models. As it captures non-linear relationship, while reducing overfitting through ensembling.\n",
        "\n",
        "Third model I chose was Gradient boosting, as it is more advanced ensembling technique, that sequentially improve model's performance and also gets higher predictive accuracy."
      ]
    },
    {
      "cell_type": "markdown",
      "id": "ddae0ba1",
      "metadata": {
        "id": "ddae0ba1"
      },
      "source": [
        "### Task 4: Model Selection and Hyperparameter Tuning"
      ]
    },
    {
      "cell_type": "code",
      "execution_count": 37,
      "id": "46091a02",
      "metadata": {
        "colab": {
          "base_uri": "https://localhost:8080/"
        },
        "id": "46091a02",
        "outputId": "fa7a4822-0dfc-43c6-abbe-b03e814b4de0"
      },
      "outputs": [
        {
          "output_type": "stream",
          "name": "stdout",
          "text": [
            "Logistic Regression: F1-weighted = 0.848\n",
            "Random Forest: F1-weighted = 0.839\n",
            "Gradient Boosting: F1-weighted = 0.850\n"
          ]
        }
      ],
      "source": [
        "from sklearn.ensemble import RandomForestClassifier, GradientBoostingClassifier\n",
        "from sklearn.model_selection import GridSearchCV\n",
        "from sklearn.metrics import f1_score\n",
        "\n",
        "models = {\n",
        "    \"Logistic Regression\": LogisticRegression(max_iter=1500),\n",
        "    \"Random Forest\": RandomForestClassifier(random_state=40),\n",
        "    \"Gradient Boosting\": GradientBoostingClassifier(random_state=40)\n",
        "}\n",
        "\n",
        "for name, clf in models.items():\n",
        "    pipe = Pipeline(steps=[\n",
        "        (\"preprocessor\", preprocessor),\n",
        "        (\"classifier\", clf)\n",
        "    ])\n",
        "    pipe.fit(X_train, y_train)\n",
        "    y_pred = pipe.predict(X_test)\n",
        "    f1 = f1_score(y_test, y_pred, average=\"weighted\")\n",
        "    print(f\"{name}: F1-weighted = {f1:.3f}\")"
      ]
    },
    {
      "cell_type": "markdown",
      "id": "1c0fd001",
      "metadata": {
        "id": "1c0fd001"
      },
      "source": [
        "#### Hyperparameter Tuning"
      ]
    },
    {
      "cell_type": "code",
      "execution_count": 38,
      "id": "d3f30a47",
      "metadata": {
        "colab": {
          "base_uri": "https://localhost:8080/"
        },
        "id": "d3f30a47",
        "outputId": "37ec9fc3-f938-418d-fc29-07243d8a93e4"
      },
      "outputs": [
        {
          "output_type": "stream",
          "name": "stdout",
          "text": [
            "Best Hyperparameters for Gradient Boosting: {'classifier__learning_rate': 0.01, 'classifier__max_depth': 5, 'classifier__n_estimators': 200}\n",
            "Best Cross-Validation F1-weighted: 0.8569249769031847\n",
            "Test F1-weighted: 0.8518723876235798\n",
            "\n",
            "Classification Report on Test Data:\n",
            "              precision    recall  f1-score   support\n",
            "\n",
            "    No Churn       0.88      0.93      0.91      1033\n",
            "       Churn       0.78      0.64      0.70       374\n",
            "\n",
            "    accuracy                           0.86      1407\n",
            "   macro avg       0.83      0.79      0.80      1407\n",
            "weighted avg       0.85      0.86      0.85      1407\n",
            "\n"
          ]
        }
      ],
      "source": [
        "param_grid_gb = {\n",
        "    \"classifier__n_estimators\": [100, 200],\n",
        "    \"classifier__learning_rate\": [0.01, 0.1],\n",
        "    \"classifier__max_depth\": [5, 7]\n",
        "}\n",
        "\n",
        "gb_pipeline = Pipeline(steps=[\n",
        "    (\"preprocessor\", preprocessor),\n",
        "    (\"classifier\", GradientBoostingClassifier(random_state=42))\n",
        "])\n",
        "\n",
        "grid_search_gb = GridSearchCV(\n",
        "    estimator=gb_pipeline,\n",
        "    param_grid=param_grid_gb,\n",
        "    scoring=\"f1_weighted\",\n",
        "    cv=3,\n",
        "    n_jobs=-1\n",
        ")\n",
        "\n",
        "grid_search_gb.fit(X_train, y_train)\n",
        "\n",
        "print(\"Best Hyperparameters for Gradient Boosting:\", grid_search_gb.best_params_)\n",
        "print(\"Best Cross-Validation F1-weighted:\", grid_search_gb.best_score_)\n",
        "\n",
        "y_pred_gb = grid_search_gb.predict(X_test)\n",
        "from sklearn.metrics import f1_score\n",
        "print(\"Test F1-weighted:\", f1_score(y_test, y_pred_gb, average=\"weighted\"))\n",
        "\n",
        "from sklearn.metrics import classification_report\n",
        "print(\"\\nClassification Report on Test Data:\")\n",
        "print(classification_report(y_test, y_pred_gb, target_names=[\"No Churn\", \"Churn\"]))\n"
      ]
    },
    {
      "cell_type": "code",
      "execution_count": 39,
      "id": "5e0b4a26",
      "metadata": {
        "colab": {
          "base_uri": "https://localhost:8080/",
          "height": 449
        },
        "id": "5e0b4a26",
        "outputId": "bf5b99d5-dc1b-4155-f821-8ce9b9694594"
      },
      "outputs": [
        {
          "output_type": "display_data",
          "data": {
            "text/plain": [
              "<Figure size 640x480 with 2 Axes>"
            ],
            "image/png": "[encoded data removed]"
          },
          "metadata": {}
        }
      ],
      "source": [
        "from sklearn.metrics import ConfusionMatrixDisplay\n",
        "import matplotlib.pyplot as plt\n",
        "\n",
        "ConfusionMatrixDisplay.from_estimator(grid_search_gb, X_test, y_test, display_labels=[\"No Churn\", \"Churn\"])\n",
        "plt.show()\n"
      ]
    },
    {
      "cell_type": "markdown",
      "id": "4500ba0e",
      "metadata": {
        "id": "4500ba0e"
      },
      "source": [
        "### Task 5: Handling Class Imbalance"
      ]
    },
    {
      "cell_type": "code",
      "execution_count": 40,
      "id": "eab8a453",
      "metadata": {
        "colab": {
          "base_uri": "https://localhost:8080/"
        },
        "id": "eab8a453",
        "outputId": "31f7fffd-e44a-4f59-e4b2-b435b5cf560f"
      },
      "outputs": [
        {
          "output_type": "stream",
          "name": "stdout",
          "text": [
            "\n",
            " Rows added by SMOTE (for oversampling)\n",
            "Before SMOTE: 5625 rows\n",
            "After SMOTE: 8260 rows\n",
            "Rows added: 2635\n",
            "\n",
            " === Without SMOTE ===\n",
            "              precision    recall  f1-score   support\n",
            "\n",
            "    No Churn       0.88      0.93      0.91      1033\n",
            "       Churn       0.78      0.64      0.70       374\n",
            "\n",
            "    accuracy                           0.86      1407\n",
            "   macro avg       0.83      0.79      0.80      1407\n",
            "weighted avg       0.85      0.86      0.85      1407\n",
            "\n",
            "Test F1-weighted: 0.8518723876235798\n",
            "\n",
            "=== With SMOTE ===\n",
            "              precision    recall  f1-score   support\n",
            "\n",
            "    No Churn       0.91      0.85      0.88      1033\n",
            "       Churn       0.66      0.78      0.71       374\n",
            "\n",
            "    accuracy                           0.83      1407\n",
            "   macro avg       0.79      0.82      0.80      1407\n",
            "weighted avg       0.85      0.83      0.84      1407\n",
            "\n",
            "F1-weighted with SMOTE: 0.8377882146538863\n"
          ]
        }
      ],
      "source": [
        "from imblearn.pipeline import Pipeline as ImbPipeline\n",
        "from imblearn.over_sampling import SMOTE\n",
        "\n",
        "smote_pipeline = ImbPipeline(steps=[\n",
        "    (\"preprocessor\", preprocessor),\n",
        "    (\"smote\", SMOTE(random_state=40)),\n",
        "    (\"classifier\", GradientBoostingClassifier(random_state=40))\n",
        "])\n",
        "\n",
        "smote_pipeline.fit(X_train, y_train)\n",
        "\n",
        "X_train_preprocessed = preprocessor.fit_transform(X_train)\n",
        "X_res, y_res = smote_pipeline.named_steps[\"smote\"].fit_resample(X_train_preprocessed, y_train)\n",
        "print(\"\\n Rows added by SMOTE (for oversampling)\")\n",
        "print(\"Before SMOTE:\", X_train.shape[0], \"rows\")\n",
        "print(\"After SMOTE:\", X_res.shape[0], \"rows\")\n",
        "print(\"Rows added:\", X_res.shape[0] - X_train.shape[0])\n",
        "\n",
        "print(\"\\n === Without SMOTE ===\")\n",
        "print(classification_report(y_test, y_pred_gb, target_names=[\"No Churn\", \"Churn\"]))\n",
        "print(\"Test F1-weighted:\", f1_score(y_test, y_pred_gb, average=\"weighted\"))\n",
        "\n",
        "y_pred_smote = smote_pipeline.predict(X_test)\n",
        "\n",
        "print(\"\\n=== With SMOTE ===\")\n",
        "print(classification_report(y_test, y_pred_smote, target_names=[\"No Churn\", \"Churn\"]))\n",
        "\n",
        "print(\"F1-weighted with SMOTE:\",\n",
        "      f1_score(y_test, y_pred_smote, average=\"weighted\"))\n"
      ]
    },
    {
      "cell_type": "markdown",
      "id": "9e409884",
      "metadata": {
        "id": "9e409884"
      },
      "source": [
        "The classification report shows that applying SMOTE did not significantly increase the overall weighted F1-score. However, it made the model fairer by improving recall for the minority class. In a churn prediction system, this trade-off is often worthwhile—identifying more potential churn cases (even with some false positives) is preferable, since missing actual churners can be more costly than mistakenly flagging non-churn customers."
      ]
    },
    {
      "cell_type": "markdown",
      "id": "73f09949",
      "metadata": {
        "id": "73f09949"
      },
      "source": [
        "### Task 6: Final Evaluation and Interpretation"
      ]
    },
    {
      "cell_type": "code",
      "execution_count": 41,
      "id": "9e7c461f",
      "metadata": {
        "id": "9e7c461f"
      },
      "outputs": [],
      "source": [
        "from sklearn.metrics import roc_auc_score, confusion_matrix"
      ]
    },
    {
      "cell_type": "code",
      "execution_count": 42,
      "id": "c1e898b3",
      "metadata": {
        "colab": {
          "base_uri": "https://localhost:8080/"
        },
        "id": "c1e898b3",
        "outputId": "d4122563-d525-47e9-b342-f82de18cbff4"
      },
      "outputs": [
        {
          "output_type": "stream",
          "name": "stdout",
          "text": [
            "Final Model Performance on Test Set:\n",
            "Precision : 0.6584\n",
            "Recall    : 0.7781\n",
            "F1-Score  : 0.7132\n",
            "ROC AUC   : 0.9150\n"
          ]
        }
      ],
      "source": [
        "y_pred_final = smote_pipeline.predict(X_test)\n",
        "y_proba_final = smote_pipeline.predict_proba(X_test)[:, 1]\n",
        "\n",
        "precision = precision_score(y_test, y_pred_final)\n",
        "recall = recall_score(y_test, y_pred_final)\n",
        "f1 = f1_score(y_test, y_pred_final)\n",
        "roc_auc = roc_auc_score(y_test, y_proba_final)\n",
        "\n",
        "print(\"Final Model Performance on Test Set:\")\n",
        "print(f\"Precision : {precision:.4f}\")\n",
        "print(f\"Recall    : {recall:.4f}\")\n",
        "print(f\"F1-Score  : {f1:.4f}\")\n",
        "print(f\"ROC AUC   : {roc_auc:.4f}\")"
      ]
    },
    {
      "cell_type": "code",
      "execution_count": 45,
      "id": "da2709a3",
      "metadata": {
        "colab": {
          "base_uri": "https://localhost:8080/",
          "height": 695
        },
        "id": "da2709a3",
        "outputId": "aeadd9e6-6d5a-4b7a-9847-75247e0334a6"
      },
      "outputs": [
        {
          "output_type": "stream",
          "name": "stdout",
          "text": [
            "\n",
            "Classification Report:\n",
            "              precision    recall  f1-score   support\n",
            "\n",
            "    No Churn       0.91      0.85      0.88      1033\n",
            "       Churn       0.66      0.78      0.71       374\n",
            "\n",
            "    accuracy                           0.83      1407\n",
            "   macro avg       0.79      0.82      0.80      1407\n",
            "weighted avg       0.85      0.83      0.84      1407\n",
            "\n",
            "F1 weighted:  0.8377882146538863\n"
          ]
        },
        {
          "output_type": "display_data",
          "data": {
            "text/plain": [
              "<Figure size 700x500 with 2 Axes>"
            ],
            "image/png": "[encoded data removed]"
          },
          "metadata": {}
        }
      ],
      "source": [
        "print(\"\\nClassification Report:\")\n",
        "print(classification_report(y_test, y_pred_final, target_names=[\"No Churn\", \"Churn\"]))\n",
        "print(\"F1 weighted: \", f1_score(y_test, y_pred_smote, average=\"weighted\"))\n",
        "\n",
        "# Confusion Matrix\n",
        "cm = confusion_matrix(y_test, y_pred_final)\n",
        "plt.figure(figsize=(7,5))\n",
        "sns.heatmap(cm, annot=True, fmt=\"d\", cmap=\"viridis\", xticklabels=[\"No Churn\", \"Churn\"], yticklabels=[\"No Churn\", \"Churn\"])\n",
        "plt.xlabel(\"Predicted\")\n",
        "plt.ylabel(\"Actual\")\n",
        "plt.title(\"Confusion Matrix - Final Model\")\n",
        "plt.show()"
      ]
    },
    {
      "cell_type": "markdown",
      "id": "1b5d1522",
      "metadata": {
        "id": "1b5d1522"
      },
      "source": [
        "From the confusion matrix, we have: True Negatives = 882, False Positives = 151, False Negatives = 83, and True Positives = 291.\n",
        "\n",
        "A False Positive occurs when the model predicts that a customer will churn, but the customer actually stays. In this case, the business might offer unnecessary discounts or promotions, leading to a small financial cost.\n",
        "\n",
        "A False Negative occurs when the model predicts that a customer will stay, but in reality, the customer churns. This represents a lost opportunity to retain the customer, which is generally much more costly than providing discounts.\n",
        "\n",
        "Therefore, in the context of churn prediction, False Negatives are worse because losing customers has a higher long-term business impact compared to the expense of offering incentives to those who were unlikely to churn."
      ]
    },
    {
      "cell_type": "markdown",
      "id": "49f3b405",
      "metadata": {
        "id": "49f3b405"
      },
      "source": [
        "### If your final model was a tree-based ensemble (like Random Forest or Gradient Boosting), extract and visualize the top 10 most important features. Discuss what these features tell you about the main drivers of customer churn."
      ]
    },
    {
      "cell_type": "code",
      "execution_count": 47,
      "id": "06db3e16",
      "metadata": {
        "colab": {
          "base_uri": "https://localhost:8080/",
          "height": 661
        },
        "id": "06db3e16",
        "outputId": "3c2c805e-a4c5-461e-e44c-b89014ec4875"
      },
      "outputs": [
        {
          "output_type": "stream",
          "name": "stderr",
          "text": [
            "/tmp/ipython-input-3273661686.py:13: FutureWarning: \n",
            "\n",
            "Passing `palette` without assigning `hue` is deprecated and will be removed in v0.14.0. Assign the `y` variable to `hue` and set `legend=False` for the same effect.\n",
            "\n",
            "  sns.barplot(x='importance', y='feature', data=top_features, palette='dark')\n"
          ]
        },
        {
          "output_type": "display_data",
          "data": {
            "text/plain": [
              "<Figure size 1000x600 with 1 Axes>"
            ],
            "image/png": "[encoded data removed]"
          },
          "metadata": {}
        }
      ],
      "source": [
        "preprocessor = smote_pipeline.named_steps['preprocessor']\n",
        "gb_model = smote_pipeline.named_steps['classifier']\n",
        "feature_names = preprocessor.get_feature_names_out()\n",
        "\n",
        "feature_importances = pd.DataFrame({\n",
        "    'feature': feature_names,\n",
        "    'importance': gb_model.feature_importances_\n",
        "})\n",
        "\n",
        "top_features = feature_importances.sort_values(by='importance', ascending=False).head(10)\n",
        "\n",
        "plt.figure(figsize=(10,6))\n",
        "sns.barplot(x='importance', y='feature', data=top_features, palette='dark')\n",
        "plt.title('Top 10 important features - Gradient Boosting')\n",
        "plt.xlabel('Importance')\n",
        "plt.ylabel('Feature')\n",
        "plt.show()"
      ]
    },
    {
      "cell_type": "code",
      "execution_count": 48,
      "id": "48ced9f3",
      "metadata": {
        "colab": {
          "base_uri": "https://localhost:8080/"
        },
        "id": "48ced9f3",
        "outputId": "78322ac6-e6e5-4aaf-8011-b180e9caca52"
      },
      "outputs": [
        {
          "output_type": "stream",
          "name": "stdout",
          "text": [
            "Top 10 features driving churn:\n",
            "1. cat__Contract_Month-to-month\n",
            "2. num__numTechTickets\n",
            "3. cat__OnlineSecurity_No\n",
            "4. num__tenure\n",
            "5. cat__TenureGroup_0-1 yr\n",
            "6. cat__PaymentMethod_Electronic check\n",
            "7. cat__TechSupport_No\n",
            "8. cat__InternetService_Fiber optic\n",
            "9. num__AvgMonthlyTickets\n",
            "10. num__MonthlyCharges\n"
          ]
        }
      ],
      "source": [
        "print(\"Top 10 features driving churn:\")\n",
        "for i, feature in enumerate(top_features['feature'], 1):\n",
        "    print(f\"{i}. {feature}\")"
      ]
    },
    {
      "cell_type": "markdown",
      "id": "97c8220f",
      "metadata": {
        "id": "97c8220f"
      },
      "source": [
        "The key factors driving customer churn are closely tied to contract type, tenure, and service usage. Customers on month-to-month contracts or with shorter tenures are more likely to churn, as their commitment and loyalty are lower. High volumes of support tickets also signal higher churn risk, particularly when customers lack add-on services such as Online Security, Tech Support, or Online Backup. In addition, payment method and service type play a role—customers paying via electronic checks or using fiber-optic internet often show higher churn rates. Overall, churn is more common among newer, less-engaged, and under-supported customers. Strengthening customer support, encouraging longer-term contracts, and promoting value-added services could significantly improve retention."
      ]
    }
  ],
  "metadata": {
    "kernelspec": {
      "display_name": "Python [conda env:base] *",
      "language": "python",
      "name": "conda-base-py"
    },
    "language_info": {
      "codemirror_mode": {
        "name": "ipython",
        "version": 3
      },
      "file_extension": ".py",
      "mimetype": "text/x-python",
      "name": "python",
      "nbconvert_exporter": "python",
      "pygments_lexer": "ipython3",
      "version": "3.13.5"
    },
    "colab": {
      "provenance": []
    }
  },
  "nbformat": 4,
  "nbformat_minor": 5
}